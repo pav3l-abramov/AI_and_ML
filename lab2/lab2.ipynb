{
 "cells": [
  {
   "cell_type": "markdown",
   "metadata": {},
   "source": [
    "# Лаб 2. Матричные разложения"
   ]
  },
  {
   "cell_type": "markdown",
   "metadata": {},
   "source": [
    "## Теория\n",
    "\n",
    "Суть методов, основанных на матричном разложении состоит в том, что каждому пользователю $u$ ставится в соответствие вектор интересов $p_u$ длины $k$, а каждому айтему $i$ ставится в соответствие вектор интересов $q_i$, которым он удовлетворяет. Таким образом, что скалярное произведение этих векторов даёт предсказание $\\hat r_{ui}$:\n",
    "\n",
    "$$\n",
    "\\hat r_{ui} = p_u \\dot q_i\n",
    "$$\n",
    "\n",
    "Такие вектора $p_u$ и $q_i$ составляют матрицы $P$ и $Q$ соответственно, которые в произведении даёт матрицу предсказаний $\\hat R$.\n",
    "\n",
    "![Разложение матриц](./images/PQ.drawio.png)"
   ]
  },
  {
   "cell_type": "markdown",
   "metadata": {},
   "source": [
    "## Код"
   ]
  },
  {
   "cell_type": "markdown",
   "metadata": {},
   "source": [
    "Ставим библиотеки"
   ]
  },
  {
   "cell_type": "code",
   "execution_count": 1,
   "metadata": {},
   "outputs": [],
   "source": [
    "#%pip install --quiet -U scikit-surprise"
   ]
  },
  {
   "cell_type": "markdown",
   "metadata": {},
   "source": [
    "Импорты"
   ]
  },
  {
   "cell_type": "code",
   "execution_count": 2,
   "metadata": {},
   "outputs": [],
   "source": [
    "from tqdm.notebook import tqdm\n",
    "import pandas as pd\n",
    "\n",
    "# Реализации методов матричного разложения будем использовать из библиотеки surprise\n",
    "from surprise import Dataset, SVD, NMF, Reader\n",
    "# Кроссвалидацию проходили на машинном обучении\n",
    "from surprise.model_selection import cross_validate"
   ]
  },
  {
   "cell_type": "markdown",
   "metadata": {},
   "source": [
    "Загрузка датасета (из первой лабораторной)"
   ]
  },
  {
   "cell_type": "code",
   "execution_count": 3,
   "metadata": {},
   "outputs": [],
   "source": [
    "data = Dataset.load_from_file('./ml-latest-small/ratings.csv', Reader(sep=',', line_format=\"user item rating timestamp\", skip_lines=1))\n",
    "trainset = data.build_full_trainset()\n",
    "\n",
    "user_id = '42'\n",
    "item_id = '50'"
   ]
  },
  {
   "cell_type": "markdown",
   "metadata": {},
   "source": [
    "### SVD"
   ]
  },
  {
   "cell_type": "code",
   "execution_count": 5,
   "metadata": {},
   "outputs": [],
   "source": [
    "# Обучаем модель\n",
    "algo_svd = SVD(biased=False, n_factors=100)\n",
    "algo_svd = algo_svd.fit(trainset)"
   ]
  },
  {
   "cell_type": "code",
   "execution_count": 6,
   "metadata": {},
   "outputs": [
    {
     "data": {
      "text/plain": [
       "4.278161972429333"
      ]
     },
     "execution_count": 6,
     "metadata": {},
     "output_type": "execute_result"
    }
   ],
   "source": [
    "# Даём предсказание для юзера и произвольного айтема\n",
    "algo_svd.predict(user_id, item_id).est"
   ]
  },
  {
   "cell_type": "markdown",
   "metadata": {},
   "source": [
    "Матричное представление пользователей"
   ]
  },
  {
   "cell_type": "code",
   "execution_count": 7,
   "metadata": {},
   "outputs": [
    {
     "data": {
      "text/plain": [
       "(610, 100)"
      ]
     },
     "execution_count": 7,
     "metadata": {},
     "output_type": "execute_result"
    }
   ],
   "source": [
    "algo_svd.pu.shape"
   ]
  },
  {
   "cell_type": "code",
   "execution_count": 8,
   "metadata": {},
   "outputs": [],
   "source": [
    "#algo_svd.pu"
   ]
  },
  {
   "cell_type": "markdown",
   "metadata": {},
   "source": [
    "Матричное представление товаров"
   ]
  },
  {
   "cell_type": "code",
   "execution_count": 9,
   "metadata": {},
   "outputs": [
    {
     "data": {
      "text/plain": [
       "(9724, 100)"
      ]
     },
     "execution_count": 9,
     "metadata": {},
     "output_type": "execute_result"
    }
   ],
   "source": [
    "algo_svd.qi.shape"
   ]
  },
  {
   "cell_type": "code",
   "execution_count": 10,
   "metadata": {},
   "outputs": [],
   "source": [
    "#algo_svd.qi"
   ]
  },
  {
   "cell_type": "markdown",
   "metadata": {},
   "source": [
    "Пример связи матричных представлений и итогово предсказания"
   ]
  },
  {
   "cell_type": "code",
   "execution_count": 11,
   "metadata": {},
   "outputs": [
    {
     "data": {
      "text/plain": [
       "4.278161972429334"
      ]
     },
     "execution_count": 11,
     "metadata": {},
     "output_type": "execute_result"
    }
   ],
   "source": [
    "svd_item_id = algo_svd.trainset.to_inner_iid(item_id)\n",
    "svd_user_id = algo_svd.trainset.to_inner_uid(user_id)\n",
    "\n",
    "# Умножаем вектор интересов пользователя на вектор интересов айтема\n",
    "(algo_svd.pu[svd_user_id]*algo_svd.qi[svd_item_id]).sum()"
   ]
  },
  {
   "cell_type": "code",
   "execution_count": 12,
   "metadata": {},
   "outputs": [
    {
     "data": {
      "text/plain": [
       "((100,), (100,), 4, 41)"
      ]
     },
     "execution_count": 12,
     "metadata": {},
     "output_type": "execute_result"
    }
   ],
   "source": [
    "algo_svd.pu[svd_user_id].shape,algo_svd.qi[svd_item_id].shape,svd_item_id,svd_user_id"
   ]
  },
  {
   "cell_type": "markdown",
   "metadata": {},
   "source": [
    "### Non-negative Matrix Factorization\n",
    "\n",
    "По интерфейсу и внутреннему устройству этот метод похож на SVD. Повторите предыдущие шаги для него."
   ]
  },
  {
   "cell_type": "code",
   "execution_count": 13,
   "metadata": {},
   "outputs": [],
   "source": [
    "algo_nmf = NMF(n_factors=15)\n",
    "algo_nmf = algo_nmf.fit(trainset)"
   ]
  },
  {
   "cell_type": "code",
   "execution_count": 14,
   "metadata": {},
   "outputs": [
    {
     "data": {
      "text/plain": [
       "4.327444417140317"
      ]
     },
     "execution_count": 14,
     "metadata": {},
     "output_type": "execute_result"
    }
   ],
   "source": [
    "algo_nmf.predict(user_id, item_id).est"
   ]
  },
  {
   "cell_type": "code",
   "execution_count": 15,
   "metadata": {},
   "outputs": [
    {
     "data": {
      "text/plain": [
       "4.327444417140317"
      ]
     },
     "execution_count": 15,
     "metadata": {},
     "output_type": "execute_result"
    }
   ],
   "source": [
    "nmf_item_id = algo_nmf.trainset.to_inner_iid(item_id)\n",
    "nmf_user_id = algo_nmf.trainset.to_inner_uid(user_id)\n",
    "\n",
    "# Умножаем вектор интересов пользователя на вектор интересов айтема\n",
    "(algo_nmf.pu[nmf_user_id]*algo_nmf.qi[nmf_item_id]).sum()"
   ]
  },
  {
   "cell_type": "markdown",
   "metadata": {},
   "source": [
    "### Валидация и обучение\n",
    "Используя кроссвалидацию, сравните представленные алгоритмы по качеству.\n",
    "\n",
    "Подберите гиперпараметры моделей для улучшения результатов.\n",
    "\n",
    "Расшифровка метрик ошибок и альтернативы можно найти в документации (как и параметры моделей): https://surprise.readthedocs.io/en/stable/accuracy.html#module-surprise.accuracy"
   ]
  },
  {
   "cell_type": "code",
   "execution_count": 16,
   "metadata": {},
   "outputs": [
    {
     "name": "stdout",
     "output_type": "stream",
     "text": [
      "Evaluating RMSE, MAE of algorithm SVD on 5 split(s).\n",
      "\n",
      "                  Fold 1  Fold 2  Fold 3  Fold 4  Fold 5  Mean    Std     \n",
      "RMSE (testset)    0.9763  0.9838  0.9780  0.9790  0.9846  0.9804  0.0033  \n",
      "MAE (testset)     0.7506  0.7569  0.7562  0.7530  0.7566  0.7547  0.0025  \n",
      "Fit time          1.20    1.14    1.13    1.19    1.13    1.16    0.03    \n",
      "Test time         0.24    0.11    0.13    0.20    0.12    0.16    0.05    \n"
     ]
    },
    {
     "data": {
      "text/plain": [
       "{'test_rmse': array([0.97629827, 0.98383663, 0.97799109, 0.97902917, 0.98461186]),\n",
       " 'test_mae': array([0.75057904, 0.7569088 , 0.75623263, 0.75303244, 0.75657811]),\n",
       " 'fit_time': (1.2007877826690674,\n",
       "  1.1449074745178223,\n",
       "  1.1339657306671143,\n",
       "  1.1868233680725098,\n",
       "  1.1299760341644287),\n",
       " 'test_time': (0.23636722564697266,\n",
       "  0.11369562149047852,\n",
       "  0.1296532154083252,\n",
       "  0.19752168655395508,\n",
       "  0.1216742992401123)}"
      ]
     },
     "execution_count": 16,
     "metadata": {},
     "output_type": "execute_result"
    }
   ],
   "source": [
    "cross_validate(algo_svd, data, verbose=True)"
   ]
  },
  {
   "cell_type": "code",
   "execution_count": 17,
   "metadata": {},
   "outputs": [
    {
     "name": "stdout",
     "output_type": "stream",
     "text": [
      "Evaluating RMSE, MAE of algorithm NMF on 5 split(s).\n",
      "\n",
      "                  Fold 1  Fold 2  Fold 3  Fold 4  Fold 5  Mean    Std     \n",
      "RMSE (testset)    0.9292  0.9199  0.9189  0.9172  0.9192  0.9209  0.0042  \n",
      "MAE (testset)     0.7115  0.7031  0.7049  0.7015  0.7035  0.7049  0.0034  \n",
      "Fit time          2.38    2.29    2.33    2.24    2.19    2.28    0.07    \n",
      "Test time         0.12    0.21    0.12    0.11    0.19    0.15    0.04    \n"
     ]
    },
    {
     "data": {
      "text/plain": [
       "{'test_rmse': array([0.92920069, 0.91993192, 0.91891917, 0.91721236, 0.91923552]),\n",
       " 'test_mae': array([0.71145618, 0.70307095, 0.70491371, 0.70154439, 0.70351632]),\n",
       " 'fit_time': (2.3786356449127197,\n",
       "  2.285883665084839,\n",
       "  2.328768730163574,\n",
       "  2.2350199222564697,\n",
       "  2.1901400089263916),\n",
       " 'test_time': (0.11868143081665039,\n",
       "  0.20844316482543945,\n",
       "  0.11668777465820312,\n",
       "  0.11170077323913574,\n",
       "  0.18650174140930176)}"
      ]
     },
     "execution_count": 17,
     "metadata": {},
     "output_type": "execute_result"
    }
   ],
   "source": [
    "cross_validate(algo_nmf, data, verbose=True)"
   ]
  },
  {
   "cell_type": "code",
   "execution_count": 18,
   "metadata": {},
   "outputs": [
    {
     "data": {
      "text/plain": [
       "\"\\nwith tqdm(total=(stop-start)/step) as pbar:\\n    for i in range(start,stop,step):\\n        algo_svd = SVD(biased=False, n_factors=i)\\n        algo_svd = algo_svd.fit(trainset)\\n        svd_rmse[i]=cross_validate(algo_svd, data, verbose=False)['test_rmse'].mean()\\n        pbar.update(1)\\ndict(sorted(svd_rmse.items(), key=lambda item: item[1], reverse=False))\\n\""
      ]
     },
     "execution_count": 18,
     "metadata": {},
     "output_type": "execute_result"
    }
   ],
   "source": [
    "from tqdm.notebook import tqdm\n",
    "svd_rmse={}\n",
    "start=0\n",
    "stop=200\n",
    "step=1\n",
    "'''\n",
    "with tqdm(total=(stop-start)/step) as pbar:\n",
    "    for i in range(start,stop,step):\n",
    "        algo_svd = SVD(biased=False, n_factors=i)\n",
    "        algo_svd = algo_svd.fit(trainset)\n",
    "        svd_rmse[i]=cross_validate(algo_svd, data, verbose=False)['test_rmse'].mean()\n",
    "        pbar.update(1)\n",
    "dict(sorted(svd_rmse.items(), key=lambda item: item[1], reverse=False))\n",
    "'''"
   ]
  },
  {
   "cell_type": "code",
   "execution_count": 19,
   "metadata": {},
   "outputs": [
    {
     "data": {
      "text/plain": [
       "\"\\nwith tqdm(total=(stop-start)/step) as pbar:\\n    for i in range(start,stop,step):\\n        algo_nmf = SVD(biased=False, n_factors=i)\\n        algo_nmf = algo_svd.fit(trainset)\\n        nmf_rmse[i]=cross_validate(algo_nmf, data, verbose=False)['test_rmse'].mean()\\n        pbar.update(1)\\ndict(sorted(nmf_rmse.items(), key=lambda item: item[1], reverse=False))\\n\""
      ]
     },
     "execution_count": 19,
     "metadata": {},
     "output_type": "execute_result"
    }
   ],
   "source": [
    "nmf_rmse={}\n",
    "start=0\n",
    "stop=200\n",
    "step=1\n",
    "'''\n",
    "with tqdm(total=(stop-start)/step) as pbar:\n",
    "    for i in range(start,stop,step):\n",
    "        algo_nmf = SVD(biased=False, n_factors=i)\n",
    "        algo_nmf = algo_svd.fit(trainset)\n",
    "        nmf_rmse[i]=cross_validate(algo_nmf, data, verbose=False)['test_rmse'].mean()\n",
    "        pbar.update(1)\n",
    "dict(sorted(nmf_rmse.items(), key=lambda item: item[1], reverse=False))\n",
    "'''"
   ]
  },
  {
   "cell_type": "code",
   "execution_count": 20,
   "metadata": {},
   "outputs": [
    {
     "name": "stdout",
     "output_type": "stream",
     "text": [
      "Evaluating RMSE, MAE of algorithm SVD on 5 split(s).\n",
      "\n",
      "                  Fold 1  Fold 2  Fold 3  Fold 4  Fold 5  Mean    Std     \n",
      "RMSE (testset)    0.9354  0.9371  0.9443  0.9349  0.9256  0.9355  0.0060  \n",
      "MAE (testset)     0.7142  0.7160  0.7216  0.7121  0.7114  0.7151  0.0037  \n",
      "Fit time          0.51    0.52    0.55    0.56    0.57    0.54    0.02    \n",
      "Test time         0.19    0.09    0.22    0.11    0.10    0.14    0.05    \n"
     ]
    },
    {
     "data": {
      "text/plain": [
       "{'test_rmse': array([0.93542255, 0.93705772, 0.9442981 , 0.93486452, 0.92564707]),\n",
       " 'test_mae': array([0.71423073, 0.71598943, 0.7216143 , 0.71205368, 0.71136274]),\n",
       " 'fit_time': (0.5146231651306152,\n",
       "  0.5186386108398438,\n",
       "  0.5535533428192139,\n",
       "  0.5585057735443115,\n",
       "  0.5704412460327148),\n",
       " 'test_time': (0.18752741813659668,\n",
       "  0.09471797943115234,\n",
       "  0.21542978286743164,\n",
       "  0.1137399673461914,\n",
       "  0.10475897789001465)}"
      ]
     },
     "execution_count": 20,
     "metadata": {},
     "output_type": "execute_result"
    }
   ],
   "source": [
    "algo_svd = SVD(biased=False, n_factors=8)\n",
    "algo_svd = algo_svd.fit(trainset)\n",
    "cross_validate(algo_svd, data, verbose=True)"
   ]
  },
  {
   "cell_type": "code",
   "execution_count": 21,
   "metadata": {},
   "outputs": [
    {
     "name": "stdout",
     "output_type": "stream",
     "text": [
      "Evaluating RMSE, MAE of algorithm NMF on 5 split(s).\n",
      "\n",
      "                  Fold 1  Fold 2  Fold 3  Fold 4  Fold 5  Mean    Std     \n",
      "RMSE (testset)    0.9313  0.9319  0.9225  0.9310  0.9118  0.9257  0.0078  \n",
      "MAE (testset)     0.7025  0.7071  0.6967  0.7057  0.6920  0.7008  0.0057  \n",
      "Fit time          2.68    3.02    3.15    2.82    2.69    2.87    0.18    \n",
      "Test time         0.20    0.11    0.11    0.20    0.11    0.15    0.04    \n"
     ]
    },
    {
     "data": {
      "text/plain": [
       "{'test_rmse': array([0.93135   , 0.93190958, 0.92251375, 0.93095241, 0.91177407]),\n",
       " 'test_mae': array([0.70249315, 0.70712417, 0.69670001, 0.70567731, 0.69199083]),\n",
       " 'fit_time': (2.683819055557251,\n",
       "  3.0209155082702637,\n",
       "  3.1495721340179443,\n",
       "  2.8234150409698486,\n",
       "  2.6917970180511475),\n",
       " 'test_time': (0.20046329498291016,\n",
       "  0.1107032299041748,\n",
       "  0.11369609832763672,\n",
       "  0.20046234130859375,\n",
       "  0.11170220375061035)}"
      ]
     },
     "execution_count": 21,
     "metadata": {},
     "output_type": "execute_result"
    }
   ],
   "source": [
    "algo_nmf = NMF(biased=False,n_factors=23)\n",
    "algo_nmf = algo_nmf.fit(trainset)\n",
    "cross_validate(algo_nmf, data, verbose=True)"
   ]
  },
  {
   "cell_type": "markdown",
   "metadata": {},
   "source": [
    "## Призрак в машине\n",
    "\n",
    "Проинтерпретируйте получившиеся \"интересы\" в модели NnMF.\n",
    "\n",
    "Например, можно начать с просмотра отсортированных по ним фильмов"
   ]
  },
  {
   "cell_type": "code",
   "execution_count": 23,
   "metadata": {},
   "outputs": [],
   "source": [
    "movies = pd.read_csv('./ml-latest-small/movies.csv', delimiter=',')\n",
    "# Делаем таблицу для преобразования id в имя\n",
    "id_to_title = movies.loc[:, [\"movieId\", \"title\"]]\n",
    "id_to_title.set_index(\"movieId\", inplace=True)"
   ]
  },
  {
   "cell_type": "code",
   "execution_count": 24,
   "metadata": {},
   "outputs": [],
   "source": [
    "factor_idx = 0\n",
    "items = list(algo_nmf.trainset.all_items())\n",
    "\n",
    "items.sort(key=lambda inner_id: -algo_nmf.qi[inner_id][factor_idx])\n",
    "named_items = [[id_to_title.loc[int(trainset.to_raw_iid(k))][\"title\"], [int(f*100) for f in algo_nmf.qi[k]]] for k in items]\n",
    "#named_items"
   ]
  },
  {
   "cell_type": "code",
   "execution_count": 25,
   "metadata": {},
   "outputs": [
    {
     "name": "stdout",
     "output_type": "stream",
     "text": [
      "The Adventures of Sherlock Holmes and Dr. Watson: The Hound of the Baskervilles (1981) \t\t Crime|Mystery\n",
      "District 13: Ultimatum (Banlieue 13 - Ultimatum) (2009) \t\t Action|Sci-Fi\n",
      "Aguirre: The Wrath of God (Aguirre, der Zorn Gottes) (1972) \t\t Adventure|Drama\n",
      "Dr. Horrible's Sing-Along Blog (2008) \t\t Comedy|Drama|Musical|Sci-Fi\n",
      "Death Wish 2 (1982) \t\t Action|Drama\n",
      "-----------\n",
      "Billabong Odyssey (2003) \t\t Documentary\n",
      "Cinderella Story, A (2004) \t\t Comedy|Romance\n",
      "In Dreams (1999) \t\t Horror|Thriller\n",
      "Sound of Thunder, A (2005) \t\t Action|Adventure|Drama|Sci-Fi|Thriller\n",
      "Little Boxes (2017) \t\t Comedy|Drama\n"
     ]
    }
   ],
   "source": [
    "for i in range (5):\n",
    "    print(named_items[i][0],'\\t\\t',movies.loc[(movies['title'] == named_items[i][0])]['genres'].reset_index(drop=True)[0])\n",
    "print(\"-----------\")\n",
    "for i in range (5,0,-1):\n",
    "    print(named_items[-i][0],'\\t\\t',movies.loc[(movies['title'] == named_items[-i][0])]['genres'].reset_index(drop=True)[0])  "
   ]
  },
  {
   "cell_type": "markdown",
   "metadata": {},
   "source": [
    "## вывод\n",
    "разделение по первому признаку разделяет выборку явно, с положительным знаком преимущественно комедии, детские и семейные фильмы, а с отрицательным знаком преимущественно драмы."
   ]
  },
  {
   "cell_type": "markdown",
   "metadata": {},
   "source": [
    "## Адаптация собственного алгоритма\n",
    "\n",
    "Адаптируйте ваш алгоритм из первой лабораторной для совместимости с библиотекой согласно документации: https://surprise.readthedocs.io/en/stable/building_custom_algo.html\n",
    "\n",
    "Сравните настроенные ранее модели со своим решением с помощью кроссвалидации."
   ]
  },
  {
   "cell_type": "code",
   "execution_count": 235,
   "metadata": {},
   "outputs": [],
   "source": [
    "from surprise import AlgoBase, Dataset\n",
    "from surprise.model_selection import cross_validate\n",
    "from surprise import PredictionImpossible\n",
    "f=int(0)\n",
    "class MyOwnAlgorithm(AlgoBase):\n",
    "    \n",
    "    def __init__(self):\n",
    "        AlgoBase.__init__(self)\n",
    "        self.f=0\n",
    "        self.count=0\n",
    "        self.s={}\n",
    "        self.u_mid ={}\n",
    "        self.ui_filmid={}\n",
    "        self.ui_value={}   \n",
    "    def fit(self, trainset):\n",
    "        AlgoBase.fit(self, trainset)\n",
    "        if self.f==0:\n",
    "            for key, value in trainset.ur.items() :\n",
    "                self.ui_filmid[key]=[]\n",
    "                self.ui_value[key]=[]\n",
    "                for i in range (len(trainset.ur[key])):\n",
    "                    self.ui_filmid[key].append( value[i][0])\n",
    "                    self.ui_value[key].append(value[i][1])\n",
    "            for key, value in trainset.ur.items() :\n",
    "                s_small={}\n",
    "                sum_u=0\n",
    "                s_downk=0\n",
    "                s_downl=0\n",
    "                for k in range (len(trainset.ur[key])):\n",
    "                    sum_u+=trainset.ur[key][k][1]\n",
    "                s_downk= sum(i*i for i in self.ui_value[key])\n",
    "                for l, e in trainset.ur.items():\n",
    "                    if (l!=key):\n",
    "                        s_up=0\n",
    "                        #print(key, l)\n",
    "                        s_downl=sum(i*i for i in self.ui_value[l])\n",
    "                        a= list(set( self.ui_filmid[key])& set(self.ui_filmid[l]))\n",
    "                        for j in a:\n",
    "                            s_up+=self.ui_value[key][self.ui_filmid[key].index(j)]*self.ui_value[l][self.ui_filmid[l].index(j)]\n",
    "                        s_small[l]=s_up/((s_downk*s_downl)**0.5) \n",
    "                self.s[key]=s_small\n",
    "                self.u_mid[key]=sum_u/len(trainset.ur[key])\n",
    "            self.f=+1\n",
    "            \n",
    "        return self\n",
    "    def estimate(self, u, i):\n",
    "        self.count+=1\n",
    "        if not (self.trainset.knows_user(u) and self.trainset.knows_item(i)):\n",
    "            raise PredictionImpossible(\"User and/or item is unknown.\")\n",
    "        r_up=0\n",
    "        r_down=0\n",
    "        for l, e in trainset.ur.items():\n",
    "            if (l!=u):\n",
    "                a= list(set( self.ui_filmid[u])& set(self.ui_filmid[l]))\n",
    "                if a:\n",
    "                    for j in a:\n",
    "                        r_up+=self.s[u][l]*(self.ui_value[l][self.ui_filmid[l].index(j)]-self.u_mid[l])\n",
    "                        r_down+=abs(self.s[u][l])\n",
    "        if r_down==0:\n",
    "            bsl=0.0\n",
    "        else:\n",
    "            bsl = self.u_mid[l]+r_up/r_down\n",
    "        if self.count%1000==0:\n",
    "            print (self.f,self.count)\n",
    "        return bsl"
   ]
  },
  {
   "cell_type": "code",
   "execution_count": 236,
   "metadata": {
    "scrolled": true
   },
   "outputs": [
    {
     "name": "stdout",
     "output_type": "stream",
     "text": [
      "1 1000\n",
      "1 2000\n",
      "1 3000\n",
      "1 4000\n",
      "1 5000\n",
      "1 6000\n",
      "1 7000\n",
      "1 8000\n",
      "1 9000\n",
      "1 10000\n",
      "1 11000\n",
      "1 12000\n",
      "1 13000\n",
      "1 14000\n",
      "1 15000\n",
      "1 16000\n",
      "1 17000\n",
      "1 18000\n",
      "1 19000\n",
      "1 20000\n",
      "1 21000\n",
      "1 22000\n",
      "1 23000\n",
      "1 24000\n",
      "1 25000\n",
      "1 26000\n",
      "1 27000\n",
      "1 28000\n",
      "1 29000\n",
      "1 30000\n",
      "1 31000\n",
      "1 32000\n",
      "1 33000\n",
      "1 34000\n",
      "1 35000\n",
      "1 36000\n",
      "1 38000\n",
      "1 39000\n",
      "1 40000\n",
      "1 41000\n",
      "1 42000\n",
      "1 43000\n",
      "1 44000\n",
      "1 45000\n",
      "1 46000\n",
      "1 47000\n",
      "1 48000\n",
      "1 49000\n",
      "1 50000\n",
      "1 51000\n",
      "1 52000\n",
      "1 53000\n",
      "1 54000\n",
      "1 55000\n",
      "1 56000\n",
      "1 57000\n",
      "1 58000\n",
      "1 59000\n",
      "1 60000\n",
      "1 61000\n",
      "1 63000\n",
      "1 64000\n",
      "1 65000\n",
      "1 66000\n",
      "1 67000\n",
      "1 68000\n",
      "1 69000\n",
      "1 70000\n",
      "1 71000\n",
      "1 72000\n",
      "1 73000\n",
      "1 74000\n",
      "1 75000\n",
      "1 76000\n",
      "1 77000\n",
      "1 78000\n",
      "1 80000\n",
      "1 81000\n",
      "1 82000\n",
      "1 83000\n",
      "1 84000\n",
      "1 85000\n",
      "1 86000\n",
      "1 87000\n",
      "1 88000\n",
      "1 89000\n",
      "1 90000\n",
      "1 91000\n",
      "1 92000\n",
      "1 93000\n",
      "1 94000\n",
      "1 95000\n",
      "1 96000\n",
      "1 97000\n",
      "1 98000\n",
      "1 100000\n",
      "Evaluating RMSE, MAE of algorithm MyOwnAlgorithm on 5 split(s).\n",
      "\n",
      "                  Fold 1  Fold 2  Fold 3  Fold 4  Fold 5  Mean    Std     \n",
      "RMSE (testset)    1.0399  1.0551  1.0451  1.0515  1.0479  1.0479  0.0052  \n",
      "MAE (testset)     0.8150  0.8297  0.8191  0.8261  0.8236  0.8227  0.0052  \n",
      "Fit time          30.84   0.02    0.02    0.02    0.02    6.18    12.33   \n",
      "Test time         1329.49 798.04  790.10  804.90  804.01  905.31  212.16  \n"
     ]
    },
    {
     "data": {
      "text/plain": [
       "{'test_rmse': array([1.03985567, 1.05505565, 1.04513776, 1.05153595, 1.04791676]),\n",
       " 'test_mae': array([0.81503005, 0.82968399, 0.81909215, 0.82611232, 0.82355393]),\n",
       " 'fit_time': (30.839818954467773,\n",
       "  0.01994466781616211,\n",
       "  0.02094554901123047,\n",
       "  0.0219419002532959,\n",
       "  0.02094435691833496),\n",
       " 'test_time': (1329.490199804306,\n",
       "  798.0431282520294,\n",
       "  790.1037137508392,\n",
       "  804.8991403579712,\n",
       "  804.0147337913513)}"
      ]
     },
     "execution_count": 236,
     "metadata": {},
     "output_type": "execute_result"
    }
   ],
   "source": [
    "#data = Dataset.load_builtin(\"ml-100k\")\n",
    "algo = MyOwnAlgorithm()\n",
    "\n",
    "\n",
    "cross_validate(algo, data, verbose=True)"
   ]
  },
  {
   "cell_type": "markdown",
   "metadata": {},
   "source": [
    "Evaluating RMSE, MAE of algorithm MyOwnAlgorithm on 5 split(s).\n",
    "\n",
    "                  Fold 1  Fold 2  Fold 3  Fold 4  Fold 5  Mean    Std     \n",
    "RMSE (testset)    1.0399  1.0551  1.0451  1.0515  1.0479  1.0479  0.0052  \n",
    "MAE (testset)     0.8150  0.8297  0.8191  0.8261  0.8236  0.8227  0.0052  \n",
    "Fit time          30.84   0.02    0.02    0.02    0.02    6.18    12.33   \n",
    "Test time         1329.49 798.04  790.10  804.90  804.01  905.31  212.16  \n",
    "{'test_rmse': array([1.03985567, 1.05505565, 1.04513776, 1.05153595, 1.04791676]),\n",
    " 'test_mae': array([0.81503005, 0.82968399, 0.81909215, 0.82611232, 0.82355393]),\n",
    " 'fit_time': (30.839818954467773,\n",
    "  0.01994466781616211,\n",
    "  0.02094554901123047,\n",
    "  0.0219419002532959,\n",
    "  0.02094435691833496),\n",
    " 'test_time': (1329.490199804306,\n",
    "  798.0431282520294,\n",
    "  790.1037137508392,\n",
    "  804.8991403579712,\n",
    "  804.0147337913513)}"
   ]
  },
  {
   "cell_type": "code",
   "execution_count": 240,
   "metadata": {},
   "outputs": [
    {
     "name": "stdout",
     "output_type": "stream",
     "text": [
      "Evaluating RMSE, MAE of algorithm SVD on 5 split(s).\n",
      "\n",
      "                  Fold 1  Fold 2  Fold 3  Fold 4  Fold 5  Mean    Std     \n",
      "RMSE (testset)    0.9456  0.9280  0.9352  0.9341  0.9308  0.9347  0.0060  \n",
      "MAE (testset)     0.7222  0.7089  0.7125  0.7131  0.7141  0.7142  0.0044  \n",
      "Fit time          0.52    0.55    0.50    0.61    0.52    0.54    0.04    \n",
      "Test time         0.92    0.11    0.10    0.12    0.10    0.27    0.32    \n"
     ]
    },
    {
     "data": {
      "text/plain": [
       "{'test_rmse': array([0.94561452, 0.92802016, 0.9352116 , 0.93410154, 0.9307723 ]),\n",
       " 'test_mae': array([0.72220608, 0.70890817, 0.712548  , 0.71313194, 0.71408665]),\n",
       " 'fit_time': (0.5206050872802734,\n",
       "  0.5515251159667969,\n",
       "  0.49767422676086426,\n",
       "  0.6124670505523682,\n",
       "  0.5235979557037354),\n",
       " 'test_time': (0.9165496826171875,\n",
       "  0.1077108383178711,\n",
       "  0.09573984146118164,\n",
       "  0.12164545059204102,\n",
       "  0.10172772407531738)}"
      ]
     },
     "execution_count": 240,
     "metadata": {},
     "output_type": "execute_result"
    }
   ],
   "source": [
    "cross_validate(algo_svd, data, verbose=True)"
   ]
  },
  {
   "cell_type": "code",
   "execution_count": 241,
   "metadata": {},
   "outputs": [
    {
     "name": "stdout",
     "output_type": "stream",
     "text": [
      "Evaluating RMSE, MAE of algorithm NMF on 5 split(s).\n",
      "\n",
      "                  Fold 1  Fold 2  Fold 3  Fold 4  Fold 5  Mean    Std     \n",
      "RMSE (testset)    0.9281  0.9305  0.9279  0.9130  0.9238  0.9247  0.0062  \n",
      "MAE (testset)     0.6974  0.7040  0.7036  0.6909  0.7008  0.6993  0.0048  \n",
      "Fit time          2.72    2.52    2.43    2.41    2.45    2.51    0.11    \n",
      "Test time         0.10    0.09    0.39    0.09    0.09    0.15    0.12    \n"
     ]
    },
    {
     "data": {
      "text/plain": [
       "{'test_rmse': array([0.92805298, 0.93047094, 0.92794418, 0.91301933, 0.92377845]),\n",
       " 'test_mae': array([0.69736842, 0.70402294, 0.70355104, 0.69094004, 0.70081859]),\n",
       " 'fit_time': (2.716731071472168,\n",
       "  2.5152223110198975,\n",
       "  2.4285459518432617,\n",
       "  2.4135797023773193,\n",
       "  2.4527881145477295),\n",
       " 'test_time': (0.1047220230102539,\n",
       "  0.09375238418579102,\n",
       "  0.3859682083129883,\n",
       "  0.09474921226501465,\n",
       "  0.09371805191040039)}"
      ]
     },
     "execution_count": 241,
     "metadata": {},
     "output_type": "execute_result"
    }
   ],
   "source": [
    "cross_validate(algo_nmf, data, verbose=True)"
   ]
  },
  {
   "cell_type": "code",
   "execution_count": 237,
   "metadata": {},
   "outputs": [
    {
     "data": {
      "text/plain": [
       "3.804151635478294"
      ]
     },
     "execution_count": 237,
     "metadata": {},
     "output_type": "execute_result"
    }
   ],
   "source": [
    "algo.predict(user_id, item_id).est"
   ]
  },
  {
   "cell_type": "code",
   "execution_count": 238,
   "metadata": {},
   "outputs": [
    {
     "data": {
      "text/plain": [
       "4.321548258631787"
      ]
     },
     "execution_count": 238,
     "metadata": {},
     "output_type": "execute_result"
    }
   ],
   "source": [
    "algo_nmf.predict(user_id, item_id).est"
   ]
  },
  {
   "cell_type": "code",
   "execution_count": 239,
   "metadata": {},
   "outputs": [
    {
     "data": {
      "text/plain": [
       "4.693973494063265"
      ]
     },
     "execution_count": 239,
     "metadata": {},
     "output_type": "execute_result"
    }
   ],
   "source": [
    "algo_svd.predict(user_id, item_id).est"
   ]
  },
  {
   "cell_type": "markdown",
   "metadata": {},
   "source": [
    "# Вывод\n",
    "ошибка полученной модели примерно такая же, как при стандартных значениях начальной модели (n_factors default), но итоговый результат не так хорош, как хотелось бы"
   ]
  }
 ],
 "metadata": {
  "kernelspec": {
   "display_name": "Python 3 (ipykernel)",
   "language": "python",
   "name": "python3"
  },
  "language_info": {
   "codemirror_mode": {
    "name": "ipython",
    "version": 3
   },
   "file_extension": ".py",
   "mimetype": "text/x-python",
   "name": "python",
   "nbconvert_exporter": "python",
   "pygments_lexer": "ipython3",
   "version": "3.10.9"
  }
 },
 "nbformat": 4,
 "nbformat_minor": 2
}
