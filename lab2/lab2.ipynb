{
 "cells": [
  {
   "cell_type": "markdown",
   "metadata": {},
   "source": [
    "# Лаб 2. Матричные разложения"
   ]
  },
  {
   "cell_type": "markdown",
   "metadata": {},
   "source": [
    "## Теория\n",
    "\n",
    "Суть методов, основанных на матричном разложении состоит в том, что каждому пользователю $u$ ставится в соответствие вектор интересов $p_u$ длины $k$, а каждому айтему $i$ ставится в соответствие вектор интересов $q_i$, которым он удовлетворяет. Таким образом, что скалярное произведение этих векторов даёт предсказание $\\hat r_{ui}$:\n",
    "\n",
    "$$\n",
    "\\hat r_{ui} = p_u \\dot q_i\n",
    "$$\n",
    "\n",
    "Такие вектора $p_u$ и $q_i$ составляют матрицы $P$ и $Q$ соответственно, которые в произведении даёт матрицу предсказаний $\\hat R$.\n",
    "\n",
    "![Разложение матриц](./images/PQ.drawio.png)"
   ]
  },
  {
   "cell_type": "markdown",
   "metadata": {},
   "source": [
    "## Код"
   ]
  },
  {
   "cell_type": "markdown",
   "metadata": {},
   "source": [
    "Ставим библиотеки"
   ]
  },
  {
   "cell_type": "code",
   "execution_count": 1,
   "metadata": {},
   "outputs": [],
   "source": [
    "#%pip install --quiet -U scikit-surprise"
   ]
  },
  {
   "cell_type": "markdown",
   "metadata": {},
   "source": [
    "Импорты"
   ]
  },
  {
   "cell_type": "code",
   "execution_count": 2,
   "metadata": {},
   "outputs": [],
   "source": [
    "from tqdm.notebook import tqdm\n",
    "import pandas as pd\n",
    "\n",
    "# Реализации методов матричного разложения будем использовать из библиотеки surprise\n",
    "from surprise import Dataset, SVD, NMF, Reader\n",
    "# Кроссвалидацию проходили на машинном обучении\n",
    "from surprise.model_selection import cross_validate"
   ]
  },
  {
   "cell_type": "markdown",
   "metadata": {},
   "source": [
    "Загрузка датасета (из первой лабораторной)"
   ]
  },
  {
   "cell_type": "code",
   "execution_count": 3,
   "metadata": {},
   "outputs": [],
   "source": [
    "data = Dataset.load_from_file('./ml-latest-small/ratings.csv', Reader(sep=',', line_format=\"user item rating timestamp\", skip_lines=1))\n",
    "trainset = data.build_full_trainset()\n",
    "\n",
    "user_id = '42'\n",
    "item_id = '50'"
   ]
  },
  {
   "cell_type": "markdown",
   "metadata": {},
   "source": [
    "### SVD"
   ]
  },
  {
   "cell_type": "code",
   "execution_count": 4,
   "metadata": {},
   "outputs": [],
   "source": [
    "# Обучаем модель\n",
    "algo_svd = SVD(biased=False, n_factors=100)\n",
    "algo_svd = algo_svd.fit(trainset)"
   ]
  },
  {
   "cell_type": "code",
   "execution_count": 5,
   "metadata": {},
   "outputs": [
    {
     "data": {
      "text/plain": [
       "4.738756425259755"
      ]
     },
     "execution_count": 5,
     "metadata": {},
     "output_type": "execute_result"
    }
   ],
   "source": [
    "# Даём предсказание для юзера и произвольного айтема\n",
    "algo_svd.predict(user_id, item_id).est"
   ]
  },
  {
   "cell_type": "markdown",
   "metadata": {},
   "source": [
    "Матричное представление пользователей"
   ]
  },
  {
   "cell_type": "code",
   "execution_count": 6,
   "metadata": {},
   "outputs": [
    {
     "data": {
      "text/plain": [
       "(610, 100)"
      ]
     },
     "execution_count": 6,
     "metadata": {},
     "output_type": "execute_result"
    }
   ],
   "source": [
    "algo_svd.pu.shape"
   ]
  },
  {
   "cell_type": "code",
   "execution_count": 7,
   "metadata": {},
   "outputs": [],
   "source": [
    "#algo_svd.pu"
   ]
  },
  {
   "cell_type": "markdown",
   "metadata": {},
   "source": [
    "Матричное представление товаров"
   ]
  },
  {
   "cell_type": "code",
   "execution_count": 8,
   "metadata": {},
   "outputs": [
    {
     "data": {
      "text/plain": [
       "(9724, 100)"
      ]
     },
     "execution_count": 8,
     "metadata": {},
     "output_type": "execute_result"
    }
   ],
   "source": [
    "algo_svd.qi.shape"
   ]
  },
  {
   "cell_type": "code",
   "execution_count": 9,
   "metadata": {},
   "outputs": [],
   "source": [
    "#algo_svd.qi"
   ]
  },
  {
   "cell_type": "markdown",
   "metadata": {},
   "source": [
    "Пример связи матричных представлений и итогово предсказания"
   ]
  },
  {
   "cell_type": "code",
   "execution_count": 10,
   "metadata": {},
   "outputs": [
    {
     "data": {
      "text/plain": [
       "4.738756425259755"
      ]
     },
     "execution_count": 10,
     "metadata": {},
     "output_type": "execute_result"
    }
   ],
   "source": [
    "svd_item_id = algo_svd.trainset.to_inner_iid(item_id)\n",
    "svd_user_id = algo_svd.trainset.to_inner_uid(user_id)\n",
    "\n",
    "# Умножаем вектор интересов пользователя на вектор интересов айтема\n",
    "(algo_svd.pu[svd_user_id]*algo_svd.qi[svd_item_id]).sum()"
   ]
  },
  {
   "cell_type": "code",
   "execution_count": 11,
   "metadata": {},
   "outputs": [
    {
     "data": {
      "text/plain": [
       "((100,), (100,), 4, 41)"
      ]
     },
     "execution_count": 11,
     "metadata": {},
     "output_type": "execute_result"
    }
   ],
   "source": [
    "algo_svd.pu[svd_user_id].shape,algo_svd.qi[svd_item_id].shape,svd_item_id,svd_user_id"
   ]
  },
  {
   "cell_type": "markdown",
   "metadata": {},
   "source": [
    "### Non-negative Matrix Factorization\n",
    "\n",
    "По интерфейсу и внутреннему устройству этот метод похож на SVD. Повторите предыдущие шаги для него."
   ]
  },
  {
   "cell_type": "code",
   "execution_count": 12,
   "metadata": {},
   "outputs": [],
   "source": [
    "algo_nmf = NMF(n_factors=15)\n",
    "algo_nmf = algo_nmf.fit(trainset)"
   ]
  },
  {
   "cell_type": "code",
   "execution_count": 13,
   "metadata": {},
   "outputs": [
    {
     "data": {
      "text/plain": [
       "4.415228684249061"
      ]
     },
     "execution_count": 13,
     "metadata": {},
     "output_type": "execute_result"
    }
   ],
   "source": [
    "algo_nmf.predict(user_id, item_id).est"
   ]
  },
  {
   "cell_type": "code",
   "execution_count": 14,
   "metadata": {},
   "outputs": [
    {
     "data": {
      "text/plain": [
       "4.415228684249061"
      ]
     },
     "execution_count": 14,
     "metadata": {},
     "output_type": "execute_result"
    }
   ],
   "source": [
    "nmf_item_id = algo_nmf.trainset.to_inner_iid(item_id)\n",
    "nmf_user_id = algo_nmf.trainset.to_inner_uid(user_id)\n",
    "\n",
    "# Умножаем вектор интересов пользователя на вектор интересов айтема\n",
    "(algo_nmf.pu[nmf_user_id]*algo_nmf.qi[nmf_item_id]).sum()"
   ]
  },
  {
   "cell_type": "markdown",
   "metadata": {},
   "source": [
    "### Валидация и обучение\n",
    "Используя кроссвалидацию, сравните представленные алгоритмы по качеству.\n",
    "\n",
    "Подберите гиперпараметры моделей для улучшения результатов.\n",
    "\n",
    "Расшифровка метрик ошибок и альтернативы можно найти в документации (как и параметры моделей): https://surprise.readthedocs.io/en/stable/accuracy.html#module-surprise.accuracy"
   ]
  },
  {
   "cell_type": "code",
   "execution_count": 15,
   "metadata": {},
   "outputs": [
    {
     "name": "stdout",
     "output_type": "stream",
     "text": [
      "Evaluating RMSE, MAE of algorithm SVD on 5 split(s).\n",
      "\n",
      "                  Fold 1  Fold 2  Fold 3  Fold 4  Fold 5  Mean    Std     \n",
      "RMSE (testset)    0.9682  0.9864  0.9765  0.9804  0.9724  0.9768  0.0063  \n",
      "MAE (testset)     0.7472  0.7589  0.7530  0.7600  0.7484  0.7535  0.0052  \n",
      "Fit time          3.58    3.74    3.73    2.95    3.38    3.48    0.30    \n",
      "Test time         0.66    0.47    0.42    0.42    0.26    0.45    0.13    \n"
     ]
    },
    {
     "data": {
      "text/plain": [
       "{'test_rmse': array([0.96816935, 0.98637135, 0.97649756, 0.98041693, 0.97239542]),\n",
       " 'test_mae': array([0.74724031, 0.75892677, 0.7530403 , 0.75999585, 0.74841812]),\n",
       " 'fit_time': (3.5835390090942383,\n",
       "  3.740236759185791,\n",
       "  3.732506513595581,\n",
       "  2.946532726287842,\n",
       "  3.379998207092285),\n",
       " 'test_time': (0.6585943698883057,\n",
       "  0.4706535339355469,\n",
       "  0.4167215824127197,\n",
       "  0.4237692356109619,\n",
       "  0.2562887668609619)}"
      ]
     },
     "execution_count": 15,
     "metadata": {},
     "output_type": "execute_result"
    }
   ],
   "source": [
    "cross_validate(algo_svd, data, verbose=True)"
   ]
  },
  {
   "cell_type": "code",
   "execution_count": 16,
   "metadata": {},
   "outputs": [
    {
     "name": "stdout",
     "output_type": "stream",
     "text": [
      "Evaluating RMSE, MAE of algorithm NMF on 5 split(s).\n",
      "\n",
      "                  Fold 1  Fold 2  Fold 3  Fold 4  Fold 5  Mean    Std     \n",
      "RMSE (testset)    0.9178  0.9180  0.9191  0.9203  0.9232  0.9196  0.0020  \n",
      "MAE (testset)     0.7031  0.7036  0.7029  0.7026  0.7093  0.7043  0.0025  \n",
      "Fit time          4.92    5.94    7.37    7.11    6.97    6.46    0.91    \n",
      "Test time         0.21    0.66    0.31    0.47    0.66    0.46    0.18    \n"
     ]
    },
    {
     "data": {
      "text/plain": [
       "{'test_rmse': array([0.91777801, 0.91795881, 0.91905987, 0.92025754, 0.92316236]),\n",
       " 'test_mae': array([0.70309853, 0.7035936 , 0.702925  , 0.70255308, 0.70925284]),\n",
       " 'fit_time': (4.9231860637664795,\n",
       "  5.935331106185913,\n",
       "  7.365713834762573,\n",
       "  7.108931303024292,\n",
       "  6.971379041671753),\n",
       " 'test_time': (0.2114424705505371,\n",
       "  0.6552667617797852,\n",
       "  0.31474995613098145,\n",
       "  0.46799492835998535,\n",
       "  0.6590111255645752)}"
      ]
     },
     "execution_count": 16,
     "metadata": {},
     "output_type": "execute_result"
    }
   ],
   "source": [
    "cross_validate(algo_nmf, data, verbose=True)"
   ]
  },
  {
   "cell_type": "code",
   "execution_count": 17,
   "metadata": {},
   "outputs": [
    {
     "data": {
      "text/plain": [
       "\"\\nwith tqdm(total=(stop-start)/step) as pbar:\\n    for i in range(start,stop,step):\\n        algo_svd = SVD(biased=False, n_factors=i)\\n        algo_svd = algo_svd.fit(trainset)\\n        svd_rmse[i]=cross_validate(algo_svd, data, verbose=False)['test_rmse'].mean()\\n        pbar.update(1)\\ndict(sorted(svd_rmse.items(), key=lambda item: item[1], reverse=False))\\n\""
      ]
     },
     "execution_count": 17,
     "metadata": {},
     "output_type": "execute_result"
    }
   ],
   "source": [
    "from tqdm.notebook import tqdm\n",
    "svd_rmse={}\n",
    "start=0\n",
    "stop=200\n",
    "step=1\n",
    "'''\n",
    "with tqdm(total=(stop-start)/step) as pbar:\n",
    "    for i in range(start,stop,step):\n",
    "        algo_svd = SVD(biased=False, n_factors=i)\n",
    "        algo_svd = algo_svd.fit(trainset)\n",
    "        svd_rmse[i]=cross_validate(algo_svd, data, verbose=False)['test_rmse'].mean()\n",
    "        pbar.update(1)\n",
    "dict(sorted(svd_rmse.items(), key=lambda item: item[1], reverse=False))\n",
    "'''"
   ]
  },
  {
   "cell_type": "code",
   "execution_count": 18,
   "metadata": {},
   "outputs": [
    {
     "data": {
      "text/plain": [
       "\"\\nwith tqdm(total=(stop-start)/step) as pbar:\\n    for i in range(start,stop,step):\\n        algo_nmf = SVD(biased=False, n_factors=i)\\n        algo_nmf = algo_svd.fit(trainset)\\n        nmf_rmse[i]=cross_validate(algo_nmf, data, verbose=False)['test_rmse'].mean()\\n        pbar.update(1)\\ndict(sorted(nmf_rmse.items(), key=lambda item: item[1], reverse=False))\\n\""
      ]
     },
     "execution_count": 18,
     "metadata": {},
     "output_type": "execute_result"
    }
   ],
   "source": [
    "nmf_rmse={}\n",
    "start=0\n",
    "stop=200\n",
    "step=1\n",
    "'''\n",
    "with tqdm(total=(stop-start)/step) as pbar:\n",
    "    for i in range(start,stop,step):\n",
    "        algo_nmf = SVD(biased=False, n_factors=i)\n",
    "        algo_nmf = algo_svd.fit(trainset)\n",
    "        nmf_rmse[i]=cross_validate(algo_nmf, data, verbose=False)['test_rmse'].mean()\n",
    "        pbar.update(1)\n",
    "dict(sorted(nmf_rmse.items(), key=lambda item: item[1], reverse=False))\n",
    "'''"
   ]
  },
  {
   "cell_type": "code",
   "execution_count": 19,
   "metadata": {},
   "outputs": [
    {
     "name": "stdout",
     "output_type": "stream",
     "text": [
      "Evaluating RMSE, MAE of algorithm SVD on 5 split(s).\n",
      "\n",
      "                  Fold 1  Fold 2  Fold 3  Fold 4  Fold 5  Mean    Std     \n",
      "RMSE (testset)    0.9346  0.9360  0.9393  0.9363  0.9291  0.9351  0.0033  \n",
      "MAE (testset)     0.7134  0.7137  0.7163  0.7195  0.7129  0.7152  0.0025  \n",
      "Fit time          1.27    1.52    1.55    1.54    1.44    1.46    0.10    \n",
      "Test time         0.34    0.40    0.65    0.54    0.43    0.47    0.11    \n"
     ]
    },
    {
     "data": {
      "text/plain": [
       "{'test_rmse': array([0.9345658 , 0.93597251, 0.93934917, 0.93630161, 0.92914017]),\n",
       " 'test_mae': array([0.71338001, 0.71374133, 0.71633934, 0.71950133, 0.7129029 ]),\n",
       " 'fit_time': (1.2732622623443604,\n",
       "  1.5172233581542969,\n",
       "  1.551271677017212,\n",
       "  1.5444691181182861,\n",
       "  1.4356036186218262),\n",
       " 'test_time': (0.3426930904388428,\n",
       "  0.3991565704345703,\n",
       "  0.6477072238922119,\n",
       "  0.5393025875091553,\n",
       "  0.4322068691253662)}"
      ]
     },
     "execution_count": 19,
     "metadata": {},
     "output_type": "execute_result"
    }
   ],
   "source": [
    "algo_svd = SVD(biased=False, n_factors=8)\n",
    "algo_svd = algo_svd.fit(trainset)\n",
    "cross_validate(algo_svd, data, verbose=True)"
   ]
  },
  {
   "cell_type": "code",
   "execution_count": 20,
   "metadata": {},
   "outputs": [
    {
     "name": "stdout",
     "output_type": "stream",
     "text": [
      "Evaluating RMSE, MAE of algorithm NMF on 5 split(s).\n",
      "\n",
      "                  Fold 1  Fold 2  Fold 3  Fold 4  Fold 5  Mean    Std     \n",
      "RMSE (testset)    0.9259  0.9262  0.9258  0.9198  0.9262  0.9248  0.0025  \n",
      "MAE (testset)     0.7022  0.7012  0.7019  0.6970  0.7014  0.7007  0.0019  \n",
      "Fit time          8.72    8.46    8.48    8.31    8.85    8.56    0.19    \n",
      "Test time         0.71    0.46    0.74    0.67    0.44    0.60    0.13    \n"
     ]
    },
    {
     "data": {
      "text/plain": [
       "{'test_rmse': array([0.925866  , 0.92621683, 0.92578756, 0.91975933, 0.92624007]),\n",
       " 'test_mae': array([0.70220515, 0.7012175 , 0.70191663, 0.6969686 , 0.7013571 ]),\n",
       " 'fit_time': (8.720702886581421,\n",
       "  8.462809324264526,\n",
       "  8.477094173431396,\n",
       "  8.314127445220947,\n",
       "  8.849178791046143),\n",
       " 'test_time': (0.7141070365905762,\n",
       "  0.4574470520019531,\n",
       "  0.7419037818908691,\n",
       "  0.6660783290863037,\n",
       "  0.4379432201385498)}"
      ]
     },
     "execution_count": 20,
     "metadata": {},
     "output_type": "execute_result"
    }
   ],
   "source": [
    "algo_nmf = NMF(biased=False,n_factors=23)\n",
    "algo_nmf = algo_nmf.fit(trainset)\n",
    "cross_validate(algo_nmf, data, verbose=True)"
   ]
  },
  {
   "cell_type": "markdown",
   "metadata": {},
   "source": [
    "## Призрак в машине\n",
    "\n",
    "Проинтерпретируйте получившиеся \"интересы\" в модели NnMF.\n",
    "\n",
    "Например, можно начать с просмотра отсортированных по ним фильмов"
   ]
  },
  {
   "cell_type": "code",
   "execution_count": 21,
   "metadata": {},
   "outputs": [],
   "source": [
    "movies = pd.read_csv('./ml-latest-small/movies.csv', delimiter=',')\n",
    "# Делаем таблицу для преобразования id в имя\n",
    "id_to_title = movies.loc[:, [\"movieId\", \"title\"]]\n",
    "id_to_title.set_index(\"movieId\", inplace=True)"
   ]
  },
  {
   "cell_type": "code",
   "execution_count": 22,
   "metadata": {},
   "outputs": [],
   "source": [
    "factor_idx = 0\n",
    "items = list(algo_nmf.trainset.all_items())\n",
    "\n",
    "items.sort(key=lambda inner_id: -algo_nmf.qi[inner_id][factor_idx])\n",
    "named_items = [[id_to_title.loc[int(trainset.to_raw_iid(k))][\"title\"], [int(f*100) for f in algo_nmf.qi[k]]] for k in items]\n",
    "#named_items"
   ]
  },
  {
   "cell_type": "code",
   "execution_count": 23,
   "metadata": {},
   "outputs": [
    {
     "name": "stdout",
     "output_type": "stream",
     "text": [
      "High Sierra (1941) \t\t Crime|Drama|Film-Noir|Thriller\n",
      "Any Which Way You Can (1980) \t\t Comedy\n",
      "Girl Who Leapt Through Time, The (Toki o kakeru shôjo) (2006) \t\t Animation|Comedy|Drama|Romance|Sci-Fi\n",
      "Band of Brothers (2001) \t\t Action|Drama|War\n",
      "Kung Fu Panda 2 (2011) \t\t Action|Adventure|Animation|Children|Comedy|IMAX\n",
      "-----------\n",
      "Rope (1948) \t\t Crime|Drama|Thriller\n",
      "Christiane F. (a.k.a. We Children from Bahnhof Zoo) (Christiane F. - Wir Kinder vom Bahnhof Zoo) (1981) \t\t Drama\n",
      "Monster (2003) \t\t Crime|Drama\n",
      "My First Mister (2001) \t\t Comedy|Drama\n",
      "Skin I Live In, The (La piel que habito) (2011) \t\t Drama\n"
     ]
    }
   ],
   "source": [
    "for i in range (5):\n",
    "    print(named_items[i][0],'\\t\\t',movies.loc[(movies['title'] == named_items[i][0])]['genres'].reset_index(drop=True)[0])\n",
    "print(\"-----------\")\n",
    "for i in range (5,0,-1):\n",
    "    print(named_items[-i][0],'\\t\\t',movies.loc[(movies['title'] == named_items[-i][0])]['genres'].reset_index(drop=True)[0])  "
   ]
  },
  {
   "cell_type": "markdown",
   "metadata": {},
   "source": [
    "## вывод\n",
    "разделение по первому признаку разделяет выборку явно, с положительным знаком преимущественно комедии, детские и семейные фильмы, а с отрицательным знаком преимущественно драмы."
   ]
  },
  {
   "cell_type": "markdown",
   "metadata": {},
   "source": [
    "## Адаптация собственного алгоритма\n",
    "\n",
    "Адаптируйте ваш алгоритм из первой лабораторной для совместимости с библиотекой согласно документации: https://surprise.readthedocs.io/en/stable/building_custom_algo.html\n",
    "\n",
    "Сравните настроенные ранее модели со своим решением с помощью кроссвалидации."
   ]
  },
  {
   "cell_type": "code",
   "execution_count": 42,
   "metadata": {},
   "outputs": [],
   "source": [
    "from surprise import AlgoBase, Dataset\n",
    "from surprise.model_selection import cross_validate\n",
    "from surprise import PredictionImpossible\n",
    "f=int(0)\n",
    "class MyOwnAlgorithm(AlgoBase):\n",
    "    \n",
    "    def __init__(self):\n",
    "        AlgoBase.__init__(self)\n",
    "        self.f=0\n",
    "        self.count=0\n",
    "        self.s={}\n",
    "        self.u_mid ={}\n",
    "        self.ui_filmid={}\n",
    "        self.ui_value={}   \n",
    "        self.norm_dict={}\n",
    "    def fit(self, trainset):\n",
    "        AlgoBase.fit(self, trainset)\n",
    "        #if self.f==0:\n",
    "        for key, value in trainset.ur.items() :\n",
    "            self.ui_filmid[key]=[]\n",
    "            self.ui_value[key]=[]\n",
    "            norm_dict_small={}\n",
    "            for i in range (len(trainset.ur[key])):\n",
    "                self.ui_filmid[key].append( value[i][0])\n",
    "                self.ui_value[key].append(value[i][1])\n",
    "                norm_dict_small[value[i][0]]=value[i][1]\n",
    "            self.norm_dict[key]=norm_dict_small\n",
    "        #print(0 in self.norm_dict[0])\n",
    "            \n",
    "        for key, value in trainset.ur.items() :\n",
    "            s_small={}\n",
    "            \n",
    "            sum_u=0\n",
    "            s_downk=0\n",
    "            s_downl=0\n",
    "            for k in range (len(trainset.ur[key])):\n",
    "                sum_u+=trainset.ur[key][k][1]\n",
    "            s_downk= sum(i*i for i in self.ui_value[key])\n",
    "            for l, e in trainset.ur.items():\n",
    "                if (l!=key):\n",
    "                    s_up=0\n",
    "                    #print(key, l)\n",
    "                    s_downl=sum(i*i for i in self.ui_value[l])\n",
    "                    a= list(set( self.ui_filmid[key])& set(self.ui_filmid[l]))\n",
    "                    for j in a:\n",
    "                        s_up+=self.ui_value[key][self.ui_filmid[key].index(j)]*self.ui_value[l][self.ui_filmid[l].index(j)]\n",
    "                    s_small[l]=s_up/((s_downk*s_downl)**0.5) \n",
    "            self.s[key]=s_small\n",
    "            self.u_mid[key]=sum_u/len(trainset.ur[key])\n",
    "        self.f+=1     \n",
    "        print('-------')\n",
    "        return self\n",
    "    \n",
    "    def estimate(self, u, i):\n",
    "        self.count+=1\n",
    "        if not (self.trainset.knows_user(u) and self.trainset.knows_item(i)):\n",
    "            raise PredictionImpossible(\"User and/or item is unknown.\")\n",
    "        r_up=0\n",
    "        r_down=0\n",
    "        for l, e in trainset.ur.items():\n",
    "            if (l!=u and i in self.norm_dict[l]):\n",
    "                r_up+=self.s[u][l]*(self.norm_dict[l][i]-self.u_mid[l])\n",
    "                r_down+=abs(self.s[u][l])\n",
    "        if r_down==0:\n",
    "            bsl=0.0\n",
    "        else:\n",
    "            bsl = self.u_mid[l]+r_up/r_down\n",
    "        if self.count%10000==0:\n",
    "            print (self.f,self.count)\n",
    "        return bsl"
   ]
  },
  {
   "cell_type": "code",
   "execution_count": 43,
   "metadata": {
    "scrolled": true
   },
   "outputs": [
    {
     "name": "stdout",
     "output_type": "stream",
     "text": [
      "-------\n",
      "1 10000\n",
      "1 20000\n",
      "-------\n",
      "1 30000\n",
      "1 40000\n",
      "-------\n",
      "1 50000\n",
      "1 60000\n",
      "-------\n",
      "1 70000\n",
      "1 80000\n",
      "-------\n",
      "1 90000\n",
      "1 100000\n",
      "Evaluating RMSE, MAE of algorithm MyOwnAlgorithm on 5 split(s).\n",
      "\n",
      "                  Fold 1  Fold 2  Fold 3  Fold 4  Fold 5  Mean    Std     \n",
      "RMSE (testset)    1.1229  1.0205  1.1735  1.0705  1.0279  1.0831  0.0581  \n",
      "MAE (testset)     0.9291  0.7774  0.8969  0.8131  0.7787  0.8390  0.0626  \n",
      "Fit time          124.71  80.47   86.88   130.06  133.00  111.02  22.58   \n",
      "Test time         12.83   6.78    18.13   13.66   12.46   12.77   3.62    \n"
     ]
    },
    {
     "data": {
      "text/plain": [
       "{'test_rmse': array([1.12286482, 1.02045944, 1.17349142, 1.07051806, 1.02793518]),\n",
       " 'test_mae': array([0.92913867, 0.77737825, 0.8969373 , 0.81308768, 0.77866609]),\n",
       " 'fit_time': (124.70506858825684,\n",
       "  80.47050523757935,\n",
       "  86.87774658203125,\n",
       "  130.0576868057251,\n",
       "  132.99581360816956),\n",
       " 'test_time': (12.832032203674316,\n",
       "  6.779748201370239,\n",
       "  18.132147550582886,\n",
       "  13.663106918334961,\n",
       "  12.457188606262207)}"
      ]
     },
     "execution_count": 43,
     "metadata": {},
     "output_type": "execute_result"
    }
   ],
   "source": [
    "#data = Dataset.load_builtin(\"ml-100k\")\n",
    "algo = MyOwnAlgorithm()\n",
    "\n",
    "\n",
    "cross_validate(algo, data, verbose=True)"
   ]
  },
  {
   "cell_type": "markdown",
   "metadata": {},
   "source": [
    "Evaluating RMSE, MAE of algorithm MyOwnAlgorithm on 5 split(s).\n",
    "\n",
    "                  Fold 1  Fold 2  Fold 3  Fold 4  Fold 5  Mean    Std     \n",
    "RMSE (testset)    1.1229  1.0205  1.1735  1.0705  1.0279  1.0831  0.0581  \n",
    "MAE (testset)     0.9291  0.7774  0.8969  0.8131  0.7787  0.8390  0.0626  \n",
    "Fit time          124.71  80.47   86.88   130.06  133.00  111.02  22.58   \n",
    "Test time         12.83   6.78    18.13   13.66   12.46   12.77   3.62    \n",
    "{'test_rmse': array([1.12286482, 1.02045944, 1.17349142, 1.07051806, 1.02793518]),\n",
    " 'test_mae': array([0.92913867, 0.77737825, 0.8969373 , 0.81308768, 0.77866609]),\n",
    " 'fit_time': (124.70506858825684,\n",
    "  80.47050523757935,\n",
    "  86.87774658203125,\n",
    "  130.0576868057251,\n",
    "  132.99581360816956),\n",
    " 'test_time': (12.832032203674316,\n",
    "  6.779748201370239,\n",
    "  18.132147550582886,\n",
    "  13.663106918334961,\n",
    "  12.457188606262207)}"
   ]
  },
  {
   "cell_type": "code",
   "execution_count": 44,
   "metadata": {},
   "outputs": [
    {
     "name": "stdout",
     "output_type": "stream",
     "text": [
      "Evaluating RMSE, MAE of algorithm SVD on 5 split(s).\n",
      "\n",
      "                  Fold 1  Fold 2  Fold 3  Fold 4  Fold 5  Mean    Std     \n",
      "RMSE (testset)    0.9332  0.9371  0.9241  0.9416  0.9356  0.9343  0.0058  \n",
      "MAE (testset)     0.7142  0.7176  0.7065  0.7188  0.7158  0.7146  0.0043  \n",
      "Fit time          2.66    1.60    1.22    1.29    1.20    1.59    0.55    \n",
      "Test time         0.50    0.33    0.77    0.33    0.31    0.45    0.17    \n"
     ]
    },
    {
     "data": {
      "text/plain": [
       "{'test_rmse': array([0.9331839 , 0.93710614, 0.9241298 , 0.94159087, 0.93562942]),\n",
       " 'test_mae': array([0.71423389, 0.71761982, 0.70653767, 0.71882104, 0.71581922]),\n",
       " 'fit_time': (2.6617445945739746,\n",
       "  1.6021904945373535,\n",
       "  1.21748685836792,\n",
       "  1.2884337902069092,\n",
       "  1.2016332149505615),\n",
       " 'test_time': (0.4981529712677002,\n",
       "  0.32650017738342285,\n",
       "  0.7655737400054932,\n",
       "  0.326524019241333,\n",
       "  0.3144805431365967)}"
      ]
     },
     "execution_count": 44,
     "metadata": {},
     "output_type": "execute_result"
    }
   ],
   "source": [
    "cross_validate(algo_svd, data, verbose=True)"
   ]
  },
  {
   "cell_type": "code",
   "execution_count": 45,
   "metadata": {},
   "outputs": [
    {
     "name": "stdout",
     "output_type": "stream",
     "text": [
      "Evaluating RMSE, MAE of algorithm NMF on 5 split(s).\n",
      "\n",
      "                  Fold 1  Fold 2  Fold 3  Fold 4  Fold 5  Mean    Std     \n",
      "RMSE (testset)    0.9202  0.9151  0.9195  0.9360  0.9201  0.9222  0.0072  \n",
      "MAE (testset)     0.6989  0.6916  0.6966  0.7096  0.6982  0.6990  0.0059  \n",
      "Fit time          7.76    12.13   12.74   12.58   9.22    10.88   2.02    \n",
      "Test time         0.59    0.65    1.26    0.59    0.34    0.69    0.30    \n"
     ]
    },
    {
     "data": {
      "text/plain": [
       "{'test_rmse': array([0.9202265 , 0.91506701, 0.91949515, 0.93599235, 0.92007315]),\n",
       " 'test_mae': array([0.69887322, 0.69162585, 0.69660227, 0.70958077, 0.69816911]),\n",
       " 'fit_time': (7.75804591178894,\n",
       "  12.12675428390503,\n",
       "  12.739007949829102,\n",
       "  12.576953887939453,\n",
       "  9.22347617149353),\n",
       " 'test_time': (0.5904397964477539,\n",
       "  0.6492345333099365,\n",
       "  1.256413221359253,\n",
       "  0.5905928611755371,\n",
       "  0.34058260917663574)}"
      ]
     },
     "execution_count": 45,
     "metadata": {},
     "output_type": "execute_result"
    }
   ],
   "source": [
    "cross_validate(algo_nmf, data, verbose=True)"
   ]
  },
  {
   "cell_type": "code",
   "execution_count": 46,
   "metadata": {},
   "outputs": [
    {
     "data": {
      "text/plain": [
       "4.555112571354297"
      ]
     },
     "execution_count": 46,
     "metadata": {},
     "output_type": "execute_result"
    }
   ],
   "source": [
    "algo.predict(user_id, item_id).est"
   ]
  },
  {
   "cell_type": "code",
   "execution_count": 47,
   "metadata": {},
   "outputs": [
    {
     "data": {
      "text/plain": [
       "4.74747574124056"
      ]
     },
     "execution_count": 47,
     "metadata": {},
     "output_type": "execute_result"
    }
   ],
   "source": [
    "algo_nmf.predict(user_id, item_id).est"
   ]
  },
  {
   "cell_type": "code",
   "execution_count": 48,
   "metadata": {},
   "outputs": [
    {
     "data": {
      "text/plain": [
       "4.875679112291458"
      ]
     },
     "execution_count": 48,
     "metadata": {},
     "output_type": "execute_result"
    }
   ],
   "source": [
    "algo_svd.predict(user_id, item_id).est"
   ]
  },
  {
   "cell_type": "markdown",
   "metadata": {},
   "source": [
    "# Вывод\n",
    "ошибка полученной модели примерно такая же, как при стандартных значениях начальной модели (n_factors default), но итоговый результат не так хорош, как хотелось бы"
   ]
  }
 ],
 "metadata": {
  "kernelspec": {
   "display_name": "Python 3 (ipykernel)",
   "language": "python",
   "name": "python3"
  },
  "language_info": {
   "codemirror_mode": {
    "name": "ipython",
    "version": 3
   },
   "file_extension": ".py",
   "mimetype": "text/x-python",
   "name": "python",
   "nbconvert_exporter": "python",
   "pygments_lexer": "ipython3",
   "version": "3.10.9"
  }
 },
 "nbformat": 4,
 "nbformat_minor": 2
}
