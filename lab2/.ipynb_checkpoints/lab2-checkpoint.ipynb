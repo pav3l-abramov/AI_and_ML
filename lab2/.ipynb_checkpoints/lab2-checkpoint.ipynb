{
 "cells": [
  {
   "cell_type": "markdown",
   "metadata": {},
   "source": [
    "# Лаб 2. Матричные разложения"
   ]
  },
  {
   "cell_type": "markdown",
   "metadata": {},
   "source": [
    "## Теория\n",
    "\n",
    "Суть методов, основанных на матричном разложении состоит в том, что каждому пользователю $u$ ставится в соответствие вектор интересов $p_u$ длины $k$, а каждому айтему $i$ ставится в соответствие вектор интересов $q_i$, которым он удовлетворяет. Таким образом, что скалярное произведение этих векторов даёт предсказание $\\hat r_{ui}$:\n",
    "\n",
    "$$\n",
    "\\hat r_{ui} = p_u \\dot q_i\n",
    "$$\n",
    "\n",
    "Такие вектора $p_u$ и $q_i$ составляют матрицы $P$ и $Q$ соответственно, которые в произведении даёт матрицу предсказаний $\\hat R$.\n",
    "\n",
    "![Разложение матриц](./images/PQ.drawio.png)"
   ]
  },
  {
   "cell_type": "markdown",
   "metadata": {},
   "source": [
    "## Код"
   ]
  },
  {
   "cell_type": "markdown",
   "metadata": {},
   "source": [
    "Ставим библиотеки"
   ]
  },
  {
   "cell_type": "code",
   "execution_count": 1,
   "metadata": {},
   "outputs": [],
   "source": [
    "#%pip install --quiet -U scikit-surprise"
   ]
  },
  {
   "cell_type": "markdown",
   "metadata": {},
   "source": [
    "Импорты"
   ]
  },
  {
   "cell_type": "code",
   "execution_count": 2,
   "metadata": {},
   "outputs": [],
   "source": [
    "from tqdm.notebook import tqdm\n",
    "import pandas as pd\n",
    "\n",
    "# Реализации методов матричного разложения будем использовать из библиотеки surprise\n",
    "from surprise import Dataset, SVD, NMF, Reader\n",
    "# Кроссвалидацию проходили на машинном обучении\n",
    "from surprise.model_selection import cross_validate"
   ]
  },
  {
   "cell_type": "markdown",
   "metadata": {},
   "source": [
    "Загрузка датасета (из первой лабораторной)"
   ]
  },
  {
   "cell_type": "code",
   "execution_count": 3,
   "metadata": {},
   "outputs": [],
   "source": [
    "data = Dataset.load_from_file('./ml-latest-small/ratings.csv', Reader(sep=',', line_format=\"user item rating timestamp\", skip_lines=1))\n",
    "trainset = data.build_full_trainset()\n",
    "\n",
    "user_id = '42'\n",
    "item_id = '50'"
   ]
  },
  {
   "cell_type": "markdown",
   "metadata": {},
   "source": [
    "### SVD"
   ]
  },
  {
   "cell_type": "code",
   "execution_count": 4,
   "metadata": {},
   "outputs": [],
   "source": [
    "# Обучаем модель\n",
    "algo_svd = SVD(biased=False, n_factors=100)\n",
    "algo_svd = algo_svd.fit(trainset)"
   ]
  },
  {
   "cell_type": "code",
   "execution_count": 5,
   "metadata": {},
   "outputs": [
    {
     "data": {
      "text/plain": [
       "4.5482913957517725"
      ]
     },
     "execution_count": 5,
     "metadata": {},
     "output_type": "execute_result"
    }
   ],
   "source": [
    "# Даём предсказание для юзера и произвольного айтема\n",
    "algo_svd.predict(user_id, item_id).est"
   ]
  },
  {
   "cell_type": "markdown",
   "metadata": {},
   "source": [
    "Матричное представление пользователей"
   ]
  },
  {
   "cell_type": "code",
   "execution_count": 6,
   "metadata": {},
   "outputs": [
    {
     "data": {
      "text/plain": [
       "(610, 100)"
      ]
     },
     "execution_count": 6,
     "metadata": {},
     "output_type": "execute_result"
    }
   ],
   "source": [
    "algo_svd.pu.shape"
   ]
  },
  {
   "cell_type": "code",
   "execution_count": 7,
   "metadata": {},
   "outputs": [],
   "source": [
    "#algo_svd.pu"
   ]
  },
  {
   "cell_type": "markdown",
   "metadata": {},
   "source": [
    "Матричное представление товаров"
   ]
  },
  {
   "cell_type": "code",
   "execution_count": 8,
   "metadata": {},
   "outputs": [
    {
     "data": {
      "text/plain": [
       "(9724, 100)"
      ]
     },
     "execution_count": 8,
     "metadata": {},
     "output_type": "execute_result"
    }
   ],
   "source": [
    "algo_svd.qi.shape"
   ]
  },
  {
   "cell_type": "code",
   "execution_count": 9,
   "metadata": {},
   "outputs": [],
   "source": [
    "#algo_svd.qi"
   ]
  },
  {
   "cell_type": "markdown",
   "metadata": {},
   "source": [
    "Пример связи матричных представлений и итогово предсказания"
   ]
  },
  {
   "cell_type": "code",
   "execution_count": 10,
   "metadata": {},
   "outputs": [
    {
     "data": {
      "text/plain": [
       "4.548291395751772"
      ]
     },
     "execution_count": 10,
     "metadata": {},
     "output_type": "execute_result"
    }
   ],
   "source": [
    "svd_item_id = algo_svd.trainset.to_inner_iid(item_id)\n",
    "svd_user_id = algo_svd.trainset.to_inner_uid(user_id)\n",
    "\n",
    "# Умножаем вектор интересов пользователя на вектор интересов айтема\n",
    "(algo_svd.pu[svd_user_id]*algo_svd.qi[svd_item_id]).sum()"
   ]
  },
  {
   "cell_type": "code",
   "execution_count": 11,
   "metadata": {},
   "outputs": [
    {
     "data": {
      "text/plain": [
       "((100,), (100,), 4, 41)"
      ]
     },
     "execution_count": 11,
     "metadata": {},
     "output_type": "execute_result"
    }
   ],
   "source": [
    "algo_svd.pu[svd_user_id].shape,algo_svd.qi[svd_item_id].shape,svd_item_id,svd_user_id"
   ]
  },
  {
   "cell_type": "markdown",
   "metadata": {},
   "source": [
    "### Non-negative Matrix Factorization\n",
    "\n",
    "По интерфейсу и внутреннему устройству этот метод похож на SVD. Повторите предыдущие шаги для него."
   ]
  },
  {
   "cell_type": "code",
   "execution_count": 12,
   "metadata": {},
   "outputs": [],
   "source": [
    "algo_nmf = NMF(n_factors=15)\n",
    "algo_nmf = algo_nmf.fit(trainset)"
   ]
  },
  {
   "cell_type": "code",
   "execution_count": 13,
   "metadata": {},
   "outputs": [
    {
     "data": {
      "text/plain": [
       "4.532347370256509"
      ]
     },
     "execution_count": 13,
     "metadata": {},
     "output_type": "execute_result"
    }
   ],
   "source": [
    "algo_nmf.predict(user_id, item_id).est"
   ]
  },
  {
   "cell_type": "code",
   "execution_count": 14,
   "metadata": {},
   "outputs": [
    {
     "data": {
      "text/plain": [
       "4.532347370256508"
      ]
     },
     "execution_count": 14,
     "metadata": {},
     "output_type": "execute_result"
    }
   ],
   "source": [
    "nmf_item_id = algo_nmf.trainset.to_inner_iid(item_id)\n",
    "nmf_user_id = algo_nmf.trainset.to_inner_uid(user_id)\n",
    "\n",
    "# Умножаем вектор интересов пользователя на вектор интересов айтема\n",
    "(algo_nmf.pu[nmf_user_id]*algo_nmf.qi[nmf_item_id]).sum()"
   ]
  },
  {
   "cell_type": "markdown",
   "metadata": {},
   "source": [
    "### Валидация и обучение\n",
    "Используя кроссвалидацию, сравните представленные алгоритмы по качеству.\n",
    "\n",
    "Подберите гиперпараметры моделей для улучшения результатов.\n",
    "\n",
    "Расшифровка метрик ошибок и альтернативы можно найти в документации (как и параметры моделей): https://surprise.readthedocs.io/en/stable/accuracy.html#module-surprise.accuracy"
   ]
  },
  {
   "cell_type": "code",
   "execution_count": 15,
   "metadata": {},
   "outputs": [
    {
     "name": "stdout",
     "output_type": "stream",
     "text": [
      "Evaluating RMSE, MAE of algorithm SVD on 5 split(s).\n",
      "\n",
      "                  Fold 1  Fold 2  Fold 3  Fold 4  Fold 5  Mean    Std     \n",
      "RMSE (testset)    0.9783  0.9796  0.9807  0.9785  0.9802  0.9795  0.0009  \n",
      "MAE (testset)     0.7533  0.7548  0.7578  0.7523  0.7548  0.7546  0.0018  \n",
      "Fit time          1.53    1.66    1.27    1.21    1.47    1.43    0.17    \n",
      "Test time         0.32    0.12    0.14    0.25    0.18    0.20    0.08    \n"
     ]
    },
    {
     "data": {
      "text/plain": [
       "{'test_rmse': array([0.97827173, 0.97960082, 0.9806997 , 0.97851434, 0.98020074]),\n",
       " 'test_mae': array([0.75333062, 0.75477521, 0.75778205, 0.7523072 , 0.75483536]),\n",
       " 'fit_time': (1.529911994934082,\n",
       "  1.6575686931610107,\n",
       "  1.2676122188568115,\n",
       "  1.2067744731903076,\n",
       "  1.4660837650299072),\n",
       " 'test_time': (0.3231353759765625,\n",
       "  0.11668825149536133,\n",
       "  0.13862872123718262,\n",
       "  0.24933409690856934,\n",
       "  0.17553210258483887)}"
      ]
     },
     "execution_count": 15,
     "metadata": {},
     "output_type": "execute_result"
    }
   ],
   "source": [
    "cross_validate(algo_svd, data, verbose=True)"
   ]
  },
  {
   "cell_type": "code",
   "execution_count": 16,
   "metadata": {},
   "outputs": [
    {
     "name": "stdout",
     "output_type": "stream",
     "text": [
      "Evaluating RMSE, MAE of algorithm NMF on 5 split(s).\n",
      "\n",
      "                  Fold 1  Fold 2  Fold 3  Fold 4  Fold 5  Mean    Std     \n",
      "RMSE (testset)    0.9142  0.9198  0.9294  0.9209  0.9266  0.9222  0.0053  \n",
      "MAE (testset)     0.6994  0.7061  0.7115  0.7069  0.7074  0.7063  0.0039  \n",
      "Fit time          2.37    2.21    2.58    2.38    2.45    2.40    0.12    \n",
      "Test time         0.11    0.20    0.12    0.11    0.20    0.15    0.04    \n"
     ]
    },
    {
     "data": {
      "text/plain": [
       "{'test_rmse': array([0.91417419, 0.91976225, 0.92938718, 0.92090248, 0.92656795]),\n",
       " 'test_mae': array([0.6993649 , 0.70613254, 0.71154532, 0.70691851, 0.70739353]),\n",
       " 'fit_time': (2.3686680793762207,\n",
       "  2.2130846977233887,\n",
       "  2.5761513710021973,\n",
       "  2.3796396255493164,\n",
       "  2.4474575519561768),\n",
       " 'test_time': (0.10970711708068848,\n",
       "  0.2014613151550293,\n",
       "  0.11667919158935547,\n",
       "  0.10970735549926758,\n",
       "  0.19946861267089844)}"
      ]
     },
     "execution_count": 16,
     "metadata": {},
     "output_type": "execute_result"
    }
   ],
   "source": [
    "cross_validate(algo_nmf, data, verbose=True)"
   ]
  },
  {
   "cell_type": "code",
   "execution_count": 17,
   "metadata": {},
   "outputs": [
    {
     "data": {
      "text/plain": [
       "\"\\nwith tqdm(total=(stop-start)/step) as pbar:\\n    for i in range(start,stop,step):\\n        algo_svd = SVD(biased=False, n_factors=i)\\n        algo_svd = algo_svd.fit(trainset)\\n        svd_rmse[i]=cross_validate(algo_svd, data, verbose=False)['test_rmse'].mean()\\n        pbar.update(1)\\ndict(sorted(svd_rmse.items(), key=lambda item: item[1], reverse=False))\\n\""
      ]
     },
     "execution_count": 17,
     "metadata": {},
     "output_type": "execute_result"
    }
   ],
   "source": [
    "from tqdm.notebook import tqdm\n",
    "svd_rmse={}\n",
    "start=0\n",
    "stop=200\n",
    "step=1\n",
    "'''\n",
    "with tqdm(total=(stop-start)/step) as pbar:\n",
    "    for i in range(start,stop,step):\n",
    "        algo_svd = SVD(biased=False, n_factors=i)\n",
    "        algo_svd = algo_svd.fit(trainset)\n",
    "        svd_rmse[i]=cross_validate(algo_svd, data, verbose=False)['test_rmse'].mean()\n",
    "        pbar.update(1)\n",
    "dict(sorted(svd_rmse.items(), key=lambda item: item[1], reverse=False))\n",
    "'''"
   ]
  },
  {
   "cell_type": "code",
   "execution_count": 18,
   "metadata": {},
   "outputs": [
    {
     "data": {
      "text/plain": [
       "\"\\nwith tqdm(total=(stop-start)/step) as pbar:\\n    for i in range(start,stop,step):\\n        algo_nmf = SVD(biased=False, n_factors=i)\\n        algo_nmf = algo_svd.fit(trainset)\\n        nmf_rmse[i]=cross_validate(algo_nmf, data, verbose=False)['test_rmse'].mean()\\n        pbar.update(1)\\ndict(sorted(nmf_rmse.items(), key=lambda item: item[1], reverse=False))\\n\""
      ]
     },
     "execution_count": 18,
     "metadata": {},
     "output_type": "execute_result"
    }
   ],
   "source": [
    "nmf_rmse={}\n",
    "start=0\n",
    "stop=200\n",
    "step=1\n",
    "'''\n",
    "with tqdm(total=(stop-start)/step) as pbar:\n",
    "    for i in range(start,stop,step):\n",
    "        algo_nmf = SVD(biased=False, n_factors=i)\n",
    "        algo_nmf = algo_svd.fit(trainset)\n",
    "        nmf_rmse[i]=cross_validate(algo_nmf, data, verbose=False)['test_rmse'].mean()\n",
    "        pbar.update(1)\n",
    "dict(sorted(nmf_rmse.items(), key=lambda item: item[1], reverse=False))\n",
    "'''"
   ]
  },
  {
   "cell_type": "code",
   "execution_count": 19,
   "metadata": {},
   "outputs": [
    {
     "name": "stdout",
     "output_type": "stream",
     "text": [
      "Evaluating RMSE, MAE of algorithm SVD on 5 split(s).\n",
      "\n",
      "                  Fold 1  Fold 2  Fold 3  Fold 4  Fold 5  Mean    Std     \n",
      "RMSE (testset)    0.9443  0.9409  0.9250  0.9362  0.9334  0.9360  0.0066  \n",
      "MAE (testset)     0.7183  0.7209  0.7089  0.7170  0.7133  0.7157  0.0042  \n",
      "Fit time          0.55    0.63    0.64    0.65    0.51    0.59    0.06    \n",
      "Test time         0.11    0.14    0.21    0.13    0.11    0.14    0.04    \n"
     ]
    },
    {
     "data": {
      "text/plain": [
       "{'test_rmse': array([0.94426625, 0.94088049, 0.92501241, 0.93618964, 0.93340967]),\n",
       " 'test_mae': array([0.71832153, 0.72088651, 0.70894828, 0.71702166, 0.7133111 ]),\n",
       " 'fit_time': (0.5465395450592041,\n",
       "  0.6293206214904785,\n",
       "  0.6363003253936768,\n",
       "  0.6492636203765869,\n",
       "  0.5086686611175537),\n",
       " 'test_time': (0.10970711708068848,\n",
       "  0.14361357688903809,\n",
       "  0.21246600151062012,\n",
       "  0.13164877891540527,\n",
       "  0.10672545433044434)}"
      ]
     },
     "execution_count": 19,
     "metadata": {},
     "output_type": "execute_result"
    }
   ],
   "source": [
    "algo_svd = SVD(biased=False, n_factors=8)\n",
    "algo_svd = algo_svd.fit(trainset)\n",
    "cross_validate(algo_svd, data, verbose=True)"
   ]
  },
  {
   "cell_type": "code",
   "execution_count": 20,
   "metadata": {},
   "outputs": [
    {
     "name": "stdout",
     "output_type": "stream",
     "text": [
      "Evaluating RMSE, MAE of algorithm NMF on 5 split(s).\n",
      "\n",
      "                  Fold 1  Fold 2  Fold 3  Fold 4  Fold 5  Mean    Std     \n",
      "RMSE (testset)    0.9269  0.9229  0.9219  0.9299  0.9282  0.9260  0.0031  \n",
      "MAE (testset)     0.7041  0.6999  0.6961  0.7010  0.6987  0.7000  0.0027  \n",
      "Fit time          2.61    2.62    2.94    2.62    2.61    2.68    0.13    \n",
      "Test time         0.20    0.11    0.20    0.18    0.13    0.16    0.04    \n"
     ]
    },
    {
     "data": {
      "text/plain": [
       "{'test_rmse': array([0.9269417 , 0.92286917, 0.92190111, 0.92989443, 0.92816392]),\n",
       " 'test_mae': array([0.70410916, 0.69988485, 0.69605895, 0.70102619, 0.69869902]),\n",
       " 'fit_time': (2.608070135116577,\n",
       "  2.620039701461792,\n",
       "  2.9361257553100586,\n",
       "  2.624983787536621,\n",
       "  2.6096208095550537),\n",
       " 'test_time': (0.20142078399658203,\n",
       "  0.11066150665283203,\n",
       "  0.20046401023864746,\n",
       "  0.17553091049194336,\n",
       "  0.13364434242248535)}"
      ]
     },
     "execution_count": 20,
     "metadata": {},
     "output_type": "execute_result"
    }
   ],
   "source": [
    "algo_nmf = NMF(biased=False,n_factors=23)\n",
    "algo_nmf = algo_nmf.fit(trainset)\n",
    "cross_validate(algo_nmf, data, verbose=True)"
   ]
  },
  {
   "cell_type": "markdown",
   "metadata": {},
   "source": [
    "## Призрак в машине\n",
    "\n",
    "Проинтерпретируйте получившиеся \"интересы\" в модели NnMF.\n",
    "\n",
    "Например, можно начать с просмотра отсортированных по ним фильмов"
   ]
  },
  {
   "cell_type": "code",
   "execution_count": 21,
   "metadata": {},
   "outputs": [],
   "source": [
    "movies = pd.read_csv('./ml-latest-small/movies.csv', delimiter=',')\n",
    "# Делаем таблицу для преобразования id в имя\n",
    "id_to_title = movies.loc[:, [\"movieId\", \"title\"]]\n",
    "id_to_title.set_index(\"movieId\", inplace=True)"
   ]
  },
  {
   "cell_type": "code",
   "execution_count": 22,
   "metadata": {},
   "outputs": [],
   "source": [
    "factor_idx = 0\n",
    "items = list(algo_nmf.trainset.all_items())\n",
    "\n",
    "items.sort(key=lambda inner_id: -algo_nmf.qi[inner_id][factor_idx])\n",
    "named_items = [[id_to_title.loc[int(trainset.to_raw_iid(k))][\"title\"], [int(f*100) for f in algo_nmf.qi[k]]] for k in items]\n",
    "#named_items"
   ]
  },
  {
   "cell_type": "code",
   "execution_count": 23,
   "metadata": {},
   "outputs": [
    {
     "name": "stdout",
     "output_type": "stream",
     "text": [
      "Trust (1990) \t\t Comedy|Drama|Romance\n",
      "Passenger, The (Professione: reporter) (1975) \t\t Drama\n",
      "Open Range (2003) \t\t Western\n",
      "Man of Steel (2013) \t\t Action|Adventure|Fantasy|Sci-Fi|IMAX\n",
      "Croods, The (2013) \t\t Adventure|Animation|Comedy\n",
      "-----------\n",
      "Night in the Life of Jimmy Reardon, A (1988) \t\t Comedy|Romance\n",
      "Restrepo (2010) \t\t Documentary|War\n",
      "What Men Still Talk About (2011) \t\t Comedy\n",
      "Terrorist, The (a.k.a. Malli) (Theeviravaathi) (1998) \t\t Drama\n",
      "Pump Up the Volume (1990) \t\t Comedy|Drama\n"
     ]
    }
   ],
   "source": [
    "for i in range (5):\n",
    "    print(named_items[i][0],'\\t\\t',movies.loc[(movies['title'] == named_items[i][0])]['genres'].reset_index(drop=True)[0])\n",
    "print(\"-----------\")\n",
    "for i in range (5,0,-1):\n",
    "    print(named_items[-i][0],'\\t\\t',movies.loc[(movies['title'] == named_items[-i][0])]['genres'].reset_index(drop=True)[0])  "
   ]
  },
  {
   "cell_type": "markdown",
   "metadata": {},
   "source": [
    "## вывод\n",
    "разделение по первому признаку разделяет выборку явно, с положительным знаком преимущественно комедии, детские и семейные фильмы, а с отрицательным знаком преимущественно драмы."
   ]
  },
  {
   "cell_type": "markdown",
   "metadata": {},
   "source": [
    "## Адаптация собственного алгоритма\n",
    "\n",
    "Адаптируйте ваш алгоритм из первой лабораторной для совместимости с библиотекой согласно документации: https://surprise.readthedocs.io/en/stable/building_custom_algo.html\n",
    "\n",
    "Сравните настроенные ранее модели со своим решением с помощью кроссвалидации."
   ]
  },
  {
   "cell_type": "code",
   "execution_count": 32,
   "metadata": {},
   "outputs": [],
   "source": [
    "from surprise import AlgoBase, Dataset\n",
    "from surprise.model_selection import cross_validate\n",
    "from surprise import PredictionImpossible\n",
    "f=int(0)\n",
    "class MyOwnAlgorithm(AlgoBase):\n",
    "    \n",
    "    def __init__(self):\n",
    "        AlgoBase.__init__(self)\n",
    "        self.f=0\n",
    "        self.count=0\n",
    "        self.s={}\n",
    "        self.u_mid ={}\n",
    "        self.ui_filmid={}\n",
    "        self.ui_value={}   \n",
    "    def fit(self, trainset):\n",
    "        AlgoBase.fit(self, trainset)\n",
    "        #if self.f==0:\n",
    "        for key, value in trainset.ur.items() :\n",
    "            self.ui_filmid[key]=[]\n",
    "            self.ui_value[key]=[]\n",
    "            for i in range (len(trainset.ur[key])):\n",
    "                self.ui_filmid[key].append( value[i][0])\n",
    "                self.ui_value[key].append(value[i][1])\n",
    "        for key, value in trainset.ur.items() :\n",
    "            s_small={}\n",
    "            sum_u=0\n",
    "            s_downk=0\n",
    "            s_downl=0\n",
    "            for k in range (len(trainset.ur[key])):\n",
    "                sum_u+=trainset.ur[key][k][1]\n",
    "            s_downk= sum(i*i for i in self.ui_value[key])\n",
    "            for l, e in trainset.ur.items():\n",
    "                if (l!=key):\n",
    "                    s_up=0\n",
    "                    #print(key, l)\n",
    "                    s_downl=sum(i*i for i in self.ui_value[l])\n",
    "                    a= list(set( self.ui_filmid[key])& set(self.ui_filmid[l]))\n",
    "                    for j in a:\n",
    "                        s_up+=self.ui_value[key][self.ui_filmid[key].index(j)]*self.ui_value[l][self.ui_filmid[l].index(j)]\n",
    "                    s_small[l]=s_up/((s_downk*s_downl)**0.5) \n",
    "            self.s[key]=s_small\n",
    "            self.u_mid[key]=sum_u/len(trainset.ur[key])\n",
    "        self.f=+1\n",
    "            \n",
    "        return self\n",
    "    def estimate(self, u, i):\n",
    "        self.count+=1\n",
    "        if not (self.trainset.knows_user(u) and self.trainset.knows_item(i)):\n",
    "            raise PredictionImpossible(\"User and/or item is unknown.\")\n",
    "        r_up=0\n",
    "        r_down=0\n",
    "        for l, e in trainset.ur.items():\n",
    "            if (l!=u):\n",
    "                a= list(set( self.ui_filmid[u])& set(self.ui_filmid[l]))\n",
    "                if a:\n",
    "                    for j in a:\n",
    "                        r_up+=self.s[u][l]*(self.ui_value[l][self.ui_filmid[l].index(j)]-self.u_mid[l])\n",
    "                    r_down+=abs(self.s[u][l])\n",
    "        if r_down==0:\n",
    "            bsl=0.0\n",
    "        else:\n",
    "            bsl = self.u_mid[l]+r_up/r_down\n",
    "        if self.count%1000==0:\n",
    "            print (self.f,self.count)\n",
    "        return bsl"
   ]
  },
  {
   "cell_type": "code",
   "execution_count": 33,
   "metadata": {
    "scrolled": true
   },
   "outputs": [
    {
     "name": "stdout",
     "output_type": "stream",
     "text": [
      "1 1000\n",
      "1 2000\n",
      "1 3000\n",
      "1 4000\n",
      "1 5000\n",
      "1 6000\n",
      "1 7000\n",
      "1 8000\n",
      "1 9000\n",
      "1 10000\n",
      "1 11000\n",
      "1 12000\n",
      "1 13000\n",
      "1 14000\n",
      "1 15000\n",
      "1 16000\n",
      "1 17000\n",
      "1 18000\n",
      "1 19000\n",
      "1 20000\n",
      "1 21000\n",
      "1 22000\n",
      "1 23000\n",
      "1 24000\n",
      "1 25000\n",
      "1 26000\n",
      "1 27000\n",
      "1 28000\n",
      "1 29000\n",
      "1 30000\n",
      "1 31000\n",
      "1 32000\n",
      "1 33000\n",
      "1 34000\n",
      "1 35000\n",
      "1 36000\n",
      "1 37000\n",
      "1 40000\n",
      "1 41000\n",
      "1 42000\n",
      "1 43000\n",
      "1 44000\n",
      "1 45000\n",
      "1 46000\n",
      "1 47000\n",
      "1 48000\n",
      "1 50000\n",
      "1 52000\n",
      "1 53000\n",
      "1 54000\n",
      "1 55000\n",
      "1 56000\n",
      "1 57000\n",
      "1 58000\n",
      "1 59000\n",
      "1 60000\n",
      "1 61000\n",
      "1 62000\n",
      "1 63000\n",
      "1 64000\n",
      "1 65000\n",
      "1 66000\n",
      "1 67000\n",
      "1 68000\n",
      "1 69000\n",
      "1 70000\n",
      "1 71000\n",
      "1 72000\n",
      "1 73000\n",
      "1 74000\n",
      "1 75000\n",
      "1 76000\n",
      "1 77000\n",
      "1 78000\n",
      "1 79000\n",
      "1 80000\n",
      "1 81000\n",
      "1 82000\n",
      "1 83000\n",
      "1 84000\n",
      "1 85000\n",
      "1 86000\n",
      "1 87000\n",
      "1 88000\n",
      "1 89000\n",
      "1 90000\n",
      "1 91000\n",
      "1 92000\n",
      "1 94000\n",
      "1 95000\n",
      "1 96000\n",
      "1 97000\n",
      "1 98000\n",
      "1 99000\n",
      "1 100000\n",
      "Evaluating RMSE, MAE of algorithm MyOwnAlgorithm on 5 split(s).\n",
      "\n",
      "                  Fold 1  Fold 2  Fold 3  Fold 4  Fold 5  Mean    Std     \n",
      "RMSE (testset)    1.7322  1.7534  1.7711  1.7577  1.7471  1.7523  0.0127  \n",
      "MAE (testset)     1.4051  1.4244  1.4409  1.4349  1.4243  1.4259  0.0122  \n",
      "Fit time          33.13   28.59   28.83   28.85   29.19   29.72   1.72    \n",
      "Test time         1212.50 1237.80 1246.43 1248.05 1253.30 1239.62 14.45   \n"
     ]
    },
    {
     "data": {
      "text/plain": [
       "{'test_rmse': array([1.73224437, 1.75340188, 1.77107993, 1.75767602, 1.74710861]),\n",
       " 'test_mae': array([1.40505151, 1.42437125, 1.44093863, 1.43486618, 1.42432105]),\n",
       " 'fit_time': (33.13234901428223,\n",
       "  28.594185829162598,\n",
       "  28.83304715156555,\n",
       "  28.853599548339844,\n",
       "  29.188100337982178),\n",
       " 'test_time': (1212.4973239898682,\n",
       "  1237.8047845363617,\n",
       "  1246.427966117859,\n",
       "  1248.0500223636627,\n",
       "  1253.2951097488403)}"
      ]
     },
     "execution_count": 33,
     "metadata": {},
     "output_type": "execute_result"
    }
   ],
   "source": [
    "#data = Dataset.load_builtin(\"ml-100k\")\n",
    "algo = MyOwnAlgorithm()\n",
    "\n",
    "\n",
    "cross_validate(algo, data, verbose=True)"
   ]
  },
  {
   "cell_type": "markdown",
   "metadata": {},
   "source": [
    "Evaluating RMSE, MAE of algorithm MyOwnAlgorithm on 5 split(s).\n",
    "\n",
    "                  Fold 1  Fold 2  Fold 3  Fold 4  Fold 5  Mean    Std     \n",
    "RMSE (testset)    1.0399  1.0551  1.0451  1.0515  1.0479  1.0479  0.0052  \n",
    "MAE (testset)     0.8150  0.8297  0.8191  0.8261  0.8236  0.8227  0.0052  \n",
    "Fit time          30.84   0.02    0.02    0.02    0.02    6.18    12.33   \n",
    "Test time         1329.49 798.04  790.10  804.90  804.01  905.31  212.16  \n",
    "{'test_rmse': array([1.03985567, 1.05505565, 1.04513776, 1.05153595, 1.04791676]),\n",
    " 'test_mae': array([0.81503005, 0.82968399, 0.81909215, 0.82611232, 0.82355393]),\n",
    " 'fit_time': (30.839818954467773,\n",
    "  0.01994466781616211,\n",
    "  0.02094554901123047,\n",
    "  0.0219419002532959,\n",
    "  0.02094435691833496),\n",
    " 'test_time': (1329.490199804306,\n",
    "  798.0431282520294,\n",
    "  790.1037137508392,\n",
    "  804.8991403579712,\n",
    "  804.0147337913513)}"
   ]
  },
  {
   "cell_type": "code",
   "execution_count": 34,
   "metadata": {},
   "outputs": [
    {
     "name": "stdout",
     "output_type": "stream",
     "text": [
      "Evaluating RMSE, MAE of algorithm SVD on 5 split(s).\n",
      "\n",
      "                  Fold 1  Fold 2  Fold 3  Fold 4  Fold 5  Mean    Std     \n",
      "RMSE (testset)    0.9478  0.9365  0.9408  0.9362  0.9301  0.9383  0.0059  \n",
      "MAE (testset)     0.7232  0.7137  0.7206  0.7144  0.7121  0.7168  0.0043  \n",
      "Fit time          0.57    0.56    0.55    0.55    0.53    0.55    0.01    \n",
      "Test time         0.10    0.10    0.21    0.10    0.23    0.15    0.06    \n"
     ]
    },
    {
     "data": {
      "text/plain": [
       "{'test_rmse': array([0.94776565, 0.93652455, 0.94084803, 0.93620114, 0.93007406]),\n",
       " 'test_mae': array([0.72316861, 0.7137201 , 0.72057928, 0.71435342, 0.71211534]),\n",
       " 'fit_time': (0.566486120223999,\n",
       "  0.563551664352417,\n",
       "  0.551154375076294,\n",
       "  0.5495352745056152,\n",
       "  0.5315468311309814),\n",
       " 'test_time': (0.10372233390808105,\n",
       "  0.10277080535888672,\n",
       "  0.20700931549072266,\n",
       "  0.09974026679992676,\n",
       "  0.23151159286499023)}"
      ]
     },
     "execution_count": 34,
     "metadata": {},
     "output_type": "execute_result"
    }
   ],
   "source": [
    "cross_validate(algo_svd, data, verbose=True)"
   ]
  },
  {
   "cell_type": "code",
   "execution_count": 35,
   "metadata": {},
   "outputs": [
    {
     "name": "stdout",
     "output_type": "stream",
     "text": [
      "Evaluating RMSE, MAE of algorithm NMF on 5 split(s).\n",
      "\n",
      "                  Fold 1  Fold 2  Fold 3  Fold 4  Fold 5  Mean    Std     \n",
      "RMSE (testset)    0.9287  0.9147  0.9290  0.9332  0.9214  0.9254  0.0066  \n",
      "MAE (testset)     0.6986  0.6947  0.7030  0.7068  0.6998  0.7006  0.0041  \n",
      "Fit time          2.61    2.50    2.51    2.48    2.49    2.52    0.05    \n",
      "Test time         0.10    0.21    0.09    0.21    0.10    0.14    0.06    \n"
     ]
    },
    {
     "data": {
      "text/plain": [
       "{'test_rmse': array([0.92867891, 0.91467762, 0.92904249, 0.93322884, 0.9214108 ]),\n",
       " 'test_mae': array([0.69860854, 0.69470103, 0.70301195, 0.70678338, 0.69976963]),\n",
       " 'fit_time': (2.606518507003784,\n",
       "  2.499779224395752,\n",
       "  2.5093894004821777,\n",
       "  2.480039358139038,\n",
       "  2.4907586574554443),\n",
       " 'test_time': (0.09773111343383789,\n",
       "  0.20844602584838867,\n",
       "  0.09279441833496094,\n",
       "  0.2124643325805664,\n",
       "  0.09674954414367676)}"
      ]
     },
     "execution_count": 35,
     "metadata": {},
     "output_type": "execute_result"
    }
   ],
   "source": [
    "cross_validate(algo_nmf, data, verbose=True)"
   ]
  },
  {
   "cell_type": "code",
   "execution_count": 36,
   "metadata": {},
   "outputs": [
    {
     "data": {
      "text/plain": [
       "5"
      ]
     },
     "execution_count": 36,
     "metadata": {},
     "output_type": "execute_result"
    }
   ],
   "source": [
    "algo.predict(user_id, item_id).est"
   ]
  },
  {
   "cell_type": "code",
   "execution_count": 37,
   "metadata": {},
   "outputs": [
    {
     "data": {
      "text/plain": [
       "4.8589890290277085"
      ]
     },
     "execution_count": 37,
     "metadata": {},
     "output_type": "execute_result"
    }
   ],
   "source": [
    "algo_nmf.predict(user_id, item_id).est"
   ]
  },
  {
   "cell_type": "code",
   "execution_count": 38,
   "metadata": {},
   "outputs": [
    {
     "data": {
      "text/plain": [
       "4.609369072951331"
      ]
     },
     "execution_count": 38,
     "metadata": {},
     "output_type": "execute_result"
    }
   ],
   "source": [
    "algo_svd.predict(user_id, item_id).est"
   ]
  },
  {
   "cell_type": "markdown",
   "metadata": {},
   "source": [
    "# Вывод\n",
    "ошибка полученной модели примерно такая же, как при стандартных значениях начальной модели (n_factors default), но итоговый результат не так хорош, как хотелось бы"
   ]
  }
 ],
 "metadata": {
  "kernelspec": {
   "display_name": "Python 3 (ipykernel)",
   "language": "python",
   "name": "python3"
  },
  "language_info": {
   "codemirror_mode": {
    "name": "ipython",
    "version": 3
   },
   "file_extension": ".py",
   "mimetype": "text/x-python",
   "name": "python",
   "nbconvert_exporter": "python",
   "pygments_lexer": "ipython3",
   "version": "3.10.9"
  }
 },
 "nbformat": 4,
 "nbformat_minor": 2
}
