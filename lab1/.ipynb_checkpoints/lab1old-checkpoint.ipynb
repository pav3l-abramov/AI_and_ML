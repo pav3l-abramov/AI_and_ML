{
 "cells": [
  {
   "cell_type": "markdown",
   "metadata": {},
   "source": [
    "# Лаб 1. Корреляционная система\n",
    "\n",
    "При создании задания использовались Visual Studio Code и Python 3.8."
   ]
  },
  {
   "cell_type": "markdown",
   "metadata": {},
   "source": [
    "## Теория\n",
    "\n",
    "Данные для рекомендательных систем представляют из себя матрицу $R$ юзер-айтемов, в строках которой находятся пользователи, а в столбцах объекты. В ячейках матрицы находятся оценки пользователей (или какая-то другая метрика $-$ просмотры, покупки и т.д.):\n",
    "\n",
    "$$\n",
    "R = \\begin{pmatrix}\n",
    "   r_{1 1} & r_{1 2} & ...     &    \\\\\n",
    "   r_{2 1} & r_{2 1} & ...     &     \\\\\n",
    "   ...     & ...     & r_{u i} & ... \\\\\n",
    "           &         & ...     &     \\\\\n",
    "\\end{pmatrix}\n",
    "$$\n",
    "\n",
    "Матрица $R$ сильно разрежена, то есть большая часть ячеек пуста, поскольку каждый пользователь взаимодействовал с очень малым числом объектов. Задача $-$ предсказать значения в пустых ячейках, то есть получить новую заполненную матрицу $\\hat R$, максимально похожую на $R$."
   ]
  },
  {
   "cell_type": "markdown",
   "metadata": {},
   "source": [
    "### Обозначения\n",
    "\n",
    "- $U - $ множество пользователей;\n",
    "- $I - $ множество айтемов (объектов);\n",
    "- $I(u)$, где $u \\in U -$ множество айтемов, которое оценил пользователь $u$. То есть такие айтемы, для которых в строке $u$ матрицы $R$ не пусто. Аналогично $I(u, v) -$ множество объектов, которые оценили и $u$ и $v$;\n",
    "- $U(u)$, где $u \\in U -$ Множество пользователей, оценивали то же что и $u$, то есть $I(u) \\cap I(v) \\ne \\empty$, где $v \\in U(u)$;\n",
    "- $r_u$, где $u \\in U -$ строка матрицы $R$, соответствующая пользователю $u$;\n",
    "- $r_i$, где $i \\in I -$ столбец матрицы $R$, соответствующий айтему $i$;\n",
    "- $\\bar r_u$, где $u \\in U -$ среднее значение по всем заполненным оценкам пользователя $u$."
   ]
  },
  {
   "cell_type": "markdown",
   "metadata": {},
   "source": [
    "\n",
    "### Корреляционная модель\n",
    "\n",
    "Один из самых простых способов $-$ использовать взвешенное среднее. То есть, чтобы определить оценку пользователя $u$ айтема $i$, надо усреднить оценки всех пользователей, посмотревших этот фильм (user-based подход). При этом будем учитывать оценку пользователя с большим коэффициентом если пользователь \"похож\" на нашего:\n",
    "\n",
    "$$\n",
    "\\hat{r}_{ui} = \\frac{\n",
    "        \\sum_{v \\in U(u)} S(u, v)\\cdot r_v\n",
    "    } {\n",
    "        \\sum_{v \\in U(u)} S(u, v)\n",
    "    }\n",
    "$$\n",
    "\n",
    "Здесь $S$ это функция близости, которая тем больше, чем более \"похожи\" пользователи друг на друга.\n",
    "\n",
    "Поскольку оценки разных пользователей могут отличаться $-$ кто-то ставит всем фильмам 9 и 10, а кто-то 0 и 1, можно попытаться устранить проблему, предсказывая не само значение $r_u$, а отклонение от среднего значения $(r_u - \\bar{r}_u)$:\n",
    "\n",
    "$$\n",
    "\\hat{r}_{ui} = \\bar{r}_{u} + \\frac{\n",
    "        \\sum_{v \\in U(u)} S(u, v) \\cdot (r_v - \\bar r_v)\n",
    "    } {\n",
    "        \\sum_{v \\in U(u)} S(u, v)\n",
    "    }\n",
    "$$\n"
   ]
  },
  {
   "cell_type": "markdown",
   "metadata": {},
   "source": [
    "\n",
    "### Функция сходства\n",
    "\n",
    "Будем рассматривать функцию сходства двух юзером для user-based модели, функции сходства для айтемов определяется аналогично.\n",
    "\n",
    "#### Косинусная мера сходства\n",
    "\n",
    "Считаем косинус угла между пользователями в пространстве определяющих их векторов. То есть берём скалярное произведение и делим на длины векторов. Единственное, на что следует обратит внимание, что берутся не все оценки пользователей, а только для тех айтемов, которые они оба оценили:\n",
    "\n",
    "$$\n",
    "S(u, v) = \\frac{\n",
    "        \\sum_{i \\in I(u, v)} r_{ui}r_{vi}\n",
    "    }{\n",
    "        \\sqrt{\\sum_{i \\in I(u)} r_{ui}^2}\n",
    "        \\sqrt{\\sum_{i \\in I(v)} r_{vi}^2}\n",
    "    }\n",
    "$$\n"
   ]
  },
  {
   "cell_type": "markdown",
   "metadata": {},
   "source": [
    "## Задание\n",
    "\n",
    "Дан датасет с оценками пользователями фильмов. Реализуйте алгоритм в соответствии с вашим вариантом и порекомендуйте себе фильмы. Сделайте выводы.\n",
    "\n",
    "В датасете фильмы оценены по пятибальной шкале. Если в вашем варианте используется функция сходства для бинарных данных, используйте факт просмотра фильма (наличие оценки вообще).\n",
    "\n",
    "### Варианты\n",
    "\n",
    "1. User-based подход, Косинусная мера сходства.\n",
    "2. User-based подход, Корреляция Пирсона.\n",
    "3. User-based подход, Мера близости Жаккара.\n",
    "4. Item-based подход, Косинусная мера сходства.\n",
    "5. Item-based подход, Корреляция Пирсона\n",
    "6. Item-based подход, Мера близости Жаккара.\n"
   ]
  },
  {
   "cell_type": "markdown",
   "metadata": {},
   "source": [
    "## Код"
   ]
  },
  {
   "cell_type": "markdown",
   "metadata": {},
   "source": [
    "Устанавливаем библиотеки"
   ]
  },
  {
   "cell_type": "code",
   "execution_count": 1,
   "metadata": {},
   "outputs": [],
   "source": [
    "#%pip install pandas tqdm"
   ]
  },
  {
   "cell_type": "markdown",
   "metadata": {},
   "source": [
    "Импорты"
   ]
  },
  {
   "cell_type": "code",
   "execution_count": 2,
   "metadata": {},
   "outputs": [],
   "source": [
    "# Пандас нам нужен для загрузки csv и работы с матрицей\n",
    "import pandas as pd\n",
    "# Это библиотека для визуализации прогресса в питоновском ноутбуке\n",
    "from tqdm.notebook import tqdm\n",
    "\n",
    "import math\n",
    "import time\n",
    "import numpy as np"
   ]
  },
  {
   "cell_type": "markdown",
   "metadata": {},
   "source": [
    "Загружаем датасет"
   ]
  },
  {
   "cell_type": "code",
   "execution_count": 3,
   "metadata": {},
   "outputs": [],
   "source": [
    "# Сам датасет\n",
    "ratings = pd.read_csv('./ml-latest-small/ratings.csv', delimiter=',')\n",
    "# Оставляем в таблице только нужные столбцы\n",
    "ratings = ratings.loc[:, [\"userId\", \"movieId\", \"rating\"]]\n",
    "\n",
    "# Строка в таблице в датасета это id пользователя, id фильма, рейтинг\n",
    "# На id пользователей нам плевать, а фильмы хочется смотреть по названиям,\n",
    "# поэтому загружаем табличку сопоставления названий фильмов их id\n",
    "movies = pd.read_csv('./ml-latest-small/movies.csv', delimiter=',')"
   ]
  },
  {
   "cell_type": "code",
   "execution_count": 4,
   "metadata": {},
   "outputs": [
    {
     "name": "stdout",
     "output_type": "stream",
     "text": [
      "                                      movieId\n",
      "title                                        \n",
      "Iron Man (2008)                         59315\n",
      "Doctor Who: A Christmas Carol (2010)   147376\n",
      "                                        title\n",
      "movieId                                      \n",
      "59315                         Iron Man (2008)\n",
      "147376   Doctor Who: A Christmas Carol (2010)\n"
     ]
    }
   ],
   "source": [
    "# Делаем таблицу для преобразования имени в id\n",
    "title_to_id = movies.loc[:, [\"title\", \"movieId\"]]\n",
    "title_to_id.set_index(\"title\", inplace=True)\n",
    "\n",
    "# Делаем таблицу для преобразования id в имя\n",
    "id_to_title = movies.loc[:, [\"movieId\", \"title\"]]\n",
    "id_to_title.set_index(\"movieId\", inplace=True)\n",
    "\n",
    "# Проверяем что всё работает\n",
    "print(title_to_id.loc[[\"Iron Man (2008)\", \"Doctor Who: A Christmas Carol (2010)\"], :])\n",
    "print(id_to_title.loc[[59315, 147376], :])\n"
   ]
  },
  {
   "cell_type": "code",
   "execution_count": 5,
   "metadata": {},
   "outputs": [
    {
     "data": {
      "text/html": [
       "<div>\n",
       "<style scoped>\n",
       "    .dataframe tbody tr th:only-of-type {\n",
       "        vertical-align: middle;\n",
       "    }\n",
       "\n",
       "    .dataframe tbody tr th {\n",
       "        vertical-align: top;\n",
       "    }\n",
       "\n",
       "    .dataframe thead th {\n",
       "        text-align: right;\n",
       "    }\n",
       "</style>\n",
       "<table border=\"1\" class=\"dataframe\">\n",
       "  <thead>\n",
       "    <tr style=\"text-align: right;\">\n",
       "      <th></th>\n",
       "      <th>userId</th>\n",
       "      <th>movieId</th>\n",
       "      <th>rating</th>\n",
       "    </tr>\n",
       "  </thead>\n",
       "  <tbody>\n",
       "    <tr>\n",
       "      <th>0</th>\n",
       "      <td>1</td>\n",
       "      <td>1</td>\n",
       "      <td>4.0</td>\n",
       "    </tr>\n",
       "    <tr>\n",
       "      <th>1</th>\n",
       "      <td>1</td>\n",
       "      <td>3</td>\n",
       "      <td>4.0</td>\n",
       "    </tr>\n",
       "    <tr>\n",
       "      <th>2</th>\n",
       "      <td>1</td>\n",
       "      <td>6</td>\n",
       "      <td>4.0</td>\n",
       "    </tr>\n",
       "    <tr>\n",
       "      <th>3</th>\n",
       "      <td>1</td>\n",
       "      <td>47</td>\n",
       "      <td>5.0</td>\n",
       "    </tr>\n",
       "    <tr>\n",
       "      <th>4</th>\n",
       "      <td>1</td>\n",
       "      <td>50</td>\n",
       "      <td>5.0</td>\n",
       "    </tr>\n",
       "    <tr>\n",
       "      <th>...</th>\n",
       "      <td>...</td>\n",
       "      <td>...</td>\n",
       "      <td>...</td>\n",
       "    </tr>\n",
       "    <tr>\n",
       "      <th>100831</th>\n",
       "      <td>610</td>\n",
       "      <td>166534</td>\n",
       "      <td>4.0</td>\n",
       "    </tr>\n",
       "    <tr>\n",
       "      <th>100832</th>\n",
       "      <td>610</td>\n",
       "      <td>168248</td>\n",
       "      <td>5.0</td>\n",
       "    </tr>\n",
       "    <tr>\n",
       "      <th>100833</th>\n",
       "      <td>610</td>\n",
       "      <td>168250</td>\n",
       "      <td>5.0</td>\n",
       "    </tr>\n",
       "    <tr>\n",
       "      <th>100834</th>\n",
       "      <td>610</td>\n",
       "      <td>168252</td>\n",
       "      <td>5.0</td>\n",
       "    </tr>\n",
       "    <tr>\n",
       "      <th>100835</th>\n",
       "      <td>610</td>\n",
       "      <td>170875</td>\n",
       "      <td>3.0</td>\n",
       "    </tr>\n",
       "  </tbody>\n",
       "</table>\n",
       "<p>100836 rows × 3 columns</p>\n",
       "</div>"
      ],
      "text/plain": [
       "        userId  movieId  rating\n",
       "0            1        1     4.0\n",
       "1            1        3     4.0\n",
       "2            1        6     4.0\n",
       "3            1       47     5.0\n",
       "4            1       50     5.0\n",
       "...        ...      ...     ...\n",
       "100831     610   166534     4.0\n",
       "100832     610   168248     5.0\n",
       "100833     610   168250     5.0\n",
       "100834     610   168252     5.0\n",
       "100835     610   170875     3.0\n",
       "\n",
       "[100836 rows x 3 columns]"
      ]
     },
     "execution_count": 5,
     "metadata": {},
     "output_type": "execute_result"
    }
   ],
   "source": [
    "ratings"
   ]
  },
  {
   "cell_type": "code",
   "execution_count": 6,
   "metadata": {},
   "outputs": [],
   "source": [
    "# Мы хотим получить для себя какую-то рекомендацию,\n",
    "# для этого оценим несколько фильмов по пятибальной шкале\n",
    "# (аккуратно копипастим имена из датасета)\n",
    "my_ratings = {\n",
    "    \"Doctor Who: A Christmas Carol (2010)\": 6.0,\n",
    "    \"Star Wars: Episode IV - A New Hope (1977)\": 5.0,\n",
    "    \"Star Wars: Episode I - The Phantom Menace (1999)\": 5.0,\n",
    "    \"LEGO Batman: The Movie - DC Heroes Unite (2013)\": 4.0,\n",
    "    \"Lord of the Rings: The Fellowship of the Ring, The (2001)\": 3.0,\n",
    "    \"Back to the Future (1985)\": 5.0,\n",
    "    \"Iron Man (2008)\": 5.0,\n",
    "    \"Avengers, The (2012)\": 3.0,\n",
    "    \"Star Wars: The Last Jedi (2017)\": 1.0\n",
    "}\n",
    "\n",
    "# Даём нашему юзеру id, которого нет в датасете\n",
    "my_user_id = 666\n",
    "# Докидываем свои оценки в датасет\n",
    "for m, r in my_ratings.items():\n",
    "    mid = title_to_id.loc[m][\"movieId\"]\n",
    "    row = pd.DataFrame([[my_user_id, mid, r]], columns=[\"userId\", \"movieId\", \"rating\"])\n",
    "    ratings = pd.concat([ratings, row])\n",
    "ratings=ratings.reset_index(drop=True)"
   ]
  },
  {
   "cell_type": "code",
   "execution_count": 7,
   "metadata": {},
   "outputs": [
    {
     "data": {
      "text/plain": [
       "100836    147376\n",
       "100837       260\n",
       "100838      2628\n",
       "100839    103233\n",
       "100840      4993\n",
       "100841      1270\n",
       "100842     59315\n",
       "100843     89745\n",
       "100844    179819\n",
       "Name: movieId, dtype: int64"
      ]
     },
     "execution_count": 7,
     "metadata": {},
     "output_type": "execute_result"
    }
   ],
   "source": [
    "ratings.loc[ratings['userId'] == 666]['movieId']"
   ]
  },
  {
   "cell_type": "code",
   "execution_count": 8,
   "metadata": {},
   "outputs": [
    {
     "data": {
      "text/plain": [
       "5.0"
      ]
     },
     "execution_count": 8,
     "metadata": {},
     "output_type": "execute_result"
    }
   ],
   "source": [
    "ratings.loc[(ratings['userId'] == 666)&(ratings['movieId']==260)]['rating'].reset_index(drop=True)[0]"
   ]
  },
  {
   "cell_type": "code",
   "execution_count": 9,
   "metadata": {},
   "outputs": [
    {
     "data": {
      "text/plain": [
       "True"
      ]
     },
     "execution_count": 9,
     "metadata": {},
     "output_type": "execute_result"
    }
   ],
   "source": [
    "ratings.loc[ratings['userId'] == 666][\"movieId\"].isin([260]).any()"
   ]
  },
  {
   "cell_type": "markdown",
   "metadata": {},
   "source": [
    "\n",
    "### Функция сходства\n",
    "\n",
    "Будем рассматривать функцию сходства двух юзером для user-based модели, функции сходства для айтемов определяется аналогично.\n",
    "\n",
    "#### Косинусная мера сходства\n",
    "\n",
    "Считаем косинус угла между пользователями в пространстве определяющих их векторов. То есть берём скалярное произведение и делим на длины векторов. Единственное, на что следует обратит внимание, что берутся не все оценки пользователей, а только для тех айтемов, которые они оба оценили:\n",
    "\n",
    "$$\n",
    "S(u, v) = \\frac{\n",
    "        \\sum_{i \\in I(u, v)} r_{ui}r_{vi}\n",
    "    }{\n",
    "        \\sqrt{\\sum_{i \\in I(u)} r_{ui}^2}\n",
    "        \\sqrt{\\sum_{i \\in I(v)} r_{vi}^2}\n",
    "    }\n",
    "$$\n"
   ]
  },
  {
   "cell_type": "markdown",
   "metadata": {},
   "source": [
    "\n",
    "### Корреляционная модель\n",
    "\n",
    "Один из самых простых способов $-$ использовать взвешенное среднее. То есть, чтобы определить оценку пользователя $u$ айтема $i$, надо усреднить оценки всех пользователей, посмотревших этот фильм (user-based подход). При этом будем учитывать оценку пользователя с большим коэффициентом если пользователь \"похож\" на нашего:\n",
    "\n",
    "$$\n",
    "\\hat{r}_{ui} = \\frac{\n",
    "        \\sum_{v \\in U(u)} S(u, v)\\cdot r_v\n",
    "    } {\n",
    "        \\sum_{v \\in U(u)} S(u, v)\n",
    "    }\n",
    "$$\n",
    "\n",
    "Здесь $S$ это функция близости, которая тем больше, чем более \"похожи\" пользователи друг на друга.\n",
    "\n",
    "Поскольку оценки разных пользователей могут отличаться $-$ кто-то ставит всем фильмам 9 и 10, а кто-то 0 и 1, можно попытаться устранить проблему, предсказывая не само значение $r_u$, а отклонение от среднего значения $(r_u - \\bar{r}_u)$:\n",
    "\n",
    "$$\n",
    "\\hat{r}_{ui} = \\bar{r}_{u} + \\frac{\n",
    "        \\sum_{v \\in U(u)} S(u, v) \\cdot (r_v - \\bar r_v)\n",
    "    } {\n",
    "        \\sum_{v \\in U(u)} S(u, v)\n",
    "    }\n",
    "$$\n"
   ]
  },
  {
   "cell_type": "code",
   "execution_count": 12,
   "metadata": {},
   "outputs": [],
   "source": [
    "# Тут реализуем функцию предсказания.\n",
    "# Или класс. Главное - предсказать.\n",
    "def S (u,v):\n",
    "    s_up=0\n",
    "    s_down1=0\n",
    "    s_down2=0\n",
    "    a= list(set( ratings.loc[ratings['userId'] == u]['movieId']).intersection(ratings.loc[ratings['userId'] == v]['movieId']))\n",
    "    for i in a:\n",
    "        s_up+=(ratings.loc[(ratings['userId'] == v)&(ratings['movieId']==i)]['rating'].reset_index(drop=True)[0]*\n",
    "               ratings.loc[(ratings['userId'] == u)&(ratings['movieId']==i)]['rating'].reset_index(drop=True)[0])\n",
    "        s_down1+= ratings.loc[(ratings['userId'] == u)&(ratings['movieId']==i)]['rating'].reset_index(drop=True)[0]**2\n",
    "        s_down2+= ratings.loc[(ratings['userId'] == v)&(ratings['movieId']==i)]['rating'].reset_index(drop=True)[0]**2\n",
    "        #print (s_up/((s_down1*s_down1)**(0.5)))\n",
    "    return (s_up/((s_down1*s_down2)**(0.5)))\n",
    "def r_mid(u):\n",
    "    return ratings.loc[ratings['userId'] == u][\"rating\"].mean()\n",
    "def predict(user_id, movie_id):\n",
    "    pred=0\n",
    "    if (ratings.loc[ratings['userId'] == user_id][\"movieId\"].isin([movie_id]).any()):\n",
    "        pred=ratings.loc[(ratings['userId'] == user_id)&(ratings['movieId']==movie_id)]['rating'].reset_index(drop=True)[0]\n",
    "    else:\n",
    "        r_up=0\n",
    "        r_down=0\n",
    "        for i in (ratings.loc[ratings['movieId'] == movie_id]['userId']):\n",
    "            a= list(set( ratings.loc[ratings['userId'] == user_id]['movieId']).intersection(ratings.loc[ratings['userId'] == i]['movieId']))\n",
    "            if a:\n",
    "                s=S(user_id,i)\n",
    "                r_up += s*(ratings.loc[(ratings['userId'] == i)&(ratings['movieId']==movie_id)]['rating'].reset_index(drop=True)[0]-r_mid(i))\n",
    "                r_down+=abs(s)\n",
    "        if r_down==0:\n",
    "            pred=0.0\n",
    "        else:\n",
    "            pred=r_mid(user_id)+r_up/r_down\n",
    "    #print (r_up)\n",
    "    return pred\n"
   ]
  },
  {
   "cell_type": "markdown",
   "metadata": {},
   "source": [
    "Даём предсказание для каждого фильма"
   ]
  },
  {
   "cell_type": "code",
   "execution_count": null,
   "metadata": {},
   "outputs": [
    {
     "data": {
      "application/vnd.jupyter.widget-view+json": {
       "model_id": "fc8e2457ceca4a7dacae5690168a2aed",
       "version_major": 2,
       "version_minor": 0
      },
      "text/plain": [
       "  0%|          | 0/9724 [00:00<?, ?it/s]"
      ]
     },
     "metadata": {},
     "output_type": "display_data"
    }
   ],
   "source": [
    "result = {}\n",
    "for m in tqdm(ratings['movieId'].drop_duplicates().reset_index(drop=True)):\n",
    "    result[m] = predict(my_user_id, m)\n",
    "    #print(result.items())\n",
    "result = {k: v for k, v in result.items()}"
   ]
  },
  {
   "cell_type": "code",
   "execution_count": null,
   "metadata": {},
   "outputs": [],
   "source": [
    "#dict(sorted(result.values()))\n",
    "#{k: v for k, v in sorted(result.items(), key=lambda item: item[1])}\n",
    "#res = {k:v for k,v in kwargs.items() if v is not None}\n",
    "result.values()"
   ]
  },
  {
   "cell_type": "markdown",
   "metadata": {},
   "source": [
    "Выводим результат"
   ]
  },
  {
   "cell_type": "code",
   "execution_count": null,
   "metadata": {},
   "outputs": [],
   "source": [
    "# Преобразуем id фильмов в нормальные названия\n",
    "human_readable_result = {}\n",
    "for m, v in result.items():\n",
    "    title = id_to_title.loc[m][\"title\"]\n",
    "    human_readable_result[title] = v\n",
    "\n",
    "# Сортируем массив с результатами по убыванию\n",
    "sorted_result = {k: v for k, v in sorted(human_readable_result.items(), key=lambda item: item[1], reverse=True) if v != 0.0}\n",
    "\n",
    "# Выводим первые 20 рекомендаций\n",
    "for m, v in list(sorted_result.items())[:20]:\n",
    "    print(m, \": \", v)\n"
   ]
  },
  {
   "cell_type": "markdown",
   "metadata": {},
   "source": [
    "## Выводы\n",
    "\n",
    "Объясните полученный результат:"
   ]
  }
 ],
 "metadata": {
  "kernelspec": {
   "display_name": "Python 3 (ipykernel)",
   "language": "python",
   "name": "python3"
  },
  "language_info": {
   "codemirror_mode": {
    "name": "ipython",
    "version": 3
   },
   "file_extension": ".py",
   "mimetype": "text/x-python",
   "name": "python",
   "nbconvert_exporter": "python",
   "pygments_lexer": "ipython3",
   "version": "3.10.9"
  }
 },
 "nbformat": 4,
 "nbformat_minor": 2
}
