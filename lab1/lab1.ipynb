{
 "cells": [
  {
   "cell_type": "markdown",
   "metadata": {},
   "source": [
    "# Лаб 1. Корреляционная система\n",
    "\n",
    "При создании задания использовались Visual Studio Code и Python 3.8."
   ]
  },
  {
   "cell_type": "markdown",
   "metadata": {},
   "source": [
    "## Теория\n",
    "\n",
    "Данные для рекомендательных систем представляют из себя матрицу $R$ юзер-айтемов, в строках которой находятся пользователи, а в столбцах объекты. В ячейках матрицы находятся оценки пользователей (или какая-то другая метрика $-$ просмотры, покупки и т.д.):\n",
    "\n",
    "$$\n",
    "R = \\begin{pmatrix}\n",
    "   r_{1 1} & r_{1 2} & ...     &    \\\\\n",
    "   r_{2 1} & r_{2 1} & ...     &     \\\\\n",
    "   ...     & ...     & r_{u i} & ... \\\\\n",
    "           &         & ...     &     \\\\\n",
    "\\end{pmatrix}\n",
    "$$\n",
    "\n",
    "Матрица $R$ сильно разрежена, то есть большая часть ячеек пуста, поскольку каждый пользователь взаимодействовал с очень малым числом объектов. Задача $-$ предсказать значения в пустых ячейках, то есть получить новую заполненную матрицу $\\hat R$, максимально похожую на $R$."
   ]
  },
  {
   "cell_type": "markdown",
   "metadata": {},
   "source": [
    "### Обозначения\n",
    "\n",
    "- $U - $ множество пользователей;\n",
    "- $I - $ множество айтемов (объектов);\n",
    "- $I(u)$, где $u \\in U -$ множество айтемов, которое оценил пользователь $u$. То есть такие айтемы, для которых в строке $u$ матрицы $R$ не пусто. Аналогично $I(u, v) -$ множество объектов, которые оценили и $u$ и $v$;\n",
    "- $U(u)$, где $u \\in U -$ Множество пользователей, оценивали то же что и $u$, то есть $I(u) \\cap I(v) \\ne \\empty$, где $v \\in U(u)$;\n",
    "- $r_u$, где $u \\in U -$ строка матрицы $R$, соответствующая пользователю $u$;\n",
    "- $r_i$, где $i \\in I -$ столбец матрицы $R$, соответствующий айтему $i$;\n",
    "- $\\bar r_u$, где $u \\in U -$ среднее значение по всем заполненным оценкам пользователя $u$."
   ]
  },
  {
   "cell_type": "markdown",
   "metadata": {},
   "source": [
    "\n",
    "### Корреляционная модель\n",
    "\n",
    "Один из самых простых способов $-$ использовать взвешенное среднее. То есть, чтобы определить оценку пользователя $u$ айтема $i$, надо усреднить оценки всех пользователей, посмотревших этот фильм (user-based подход). При этом будем учитывать оценку пользователя с большим коэффициентом если пользователь \"похож\" на нашего:\n",
    "\n",
    "$$\n",
    "\\hat{r}_{ui} = \\frac{\n",
    "        \\sum_{v \\in U(u)} S(u, v)\\cdot r_v\n",
    "    } {\n",
    "        \\sum_{v \\in U(u)} S(u, v)\n",
    "    }\n",
    "$$\n",
    "\n",
    "Здесь $S$ это функция близости, которая тем больше, чем более \"похожи\" пользователи друг на друга.\n",
    "\n",
    "Поскольку оценки разных пользователей могут отличаться $-$ кто-то ставит всем фильмам 9 и 10, а кто-то 0 и 1, можно попытаться устранить проблему, предсказывая не само значение $r_u$, а отклонение от среднего значения $(r_u - \\bar{r}_u)$:\n",
    "\n",
    "$$\n",
    "\\hat{r}_{ui} = \\bar{r}_{u} + \\frac{\n",
    "        \\sum_{v \\in U(u)} S(u, v) \\cdot (r_v - \\bar r_v)\n",
    "    } {\n",
    "        \\sum_{v \\in U(u)} S(u, v)\n",
    "    }\n",
    "$$\n"
   ]
  },
  {
   "cell_type": "markdown",
   "metadata": {},
   "source": [
    "\n",
    "### Функция сходства\n",
    "\n",
    "Будем рассматривать функцию сходства двух юзером для user-based модели, функции сходства для айтемов определяется аналогично.\n",
    "\n",
    "#### Косинусная мера сходства\n",
    "\n",
    "Считаем косинус угла между пользователями в пространстве определяющих их векторов. То есть берём скалярное произведение и делим на длины векторов. Единственное, на что следует обратит внимание, что берутся не все оценки пользователей, а только для тех айтемов, которые они оба оценили:\n",
    "\n",
    "$$\n",
    "S(u, v) = \\frac{\n",
    "        \\sum_{i \\in I(u, v)} r_{ui}r_{vi}\n",
    "    }{\n",
    "        \\sqrt{\\sum_{i \\in I(u)} r_{ui}^2}\n",
    "        \\sqrt{\\sum_{i \\in I(v)} r_{vi}^2}\n",
    "    }\n",
    "$$\n"
   ]
  },
  {
   "cell_type": "markdown",
   "metadata": {},
   "source": [
    "## Задание\n",
    "\n",
    "Дан датасет с оценками пользователями фильмов. Реализуйте алгоритм в соответствии с вашим вариантом и порекомендуйте себе фильмы. Сделайте выводы.\n",
    "\n",
    "В датасете фильмы оценены по пятибальной шкале. Если в вашем варианте используется функция сходства для бинарных данных, используйте факт просмотра фильма (наличие оценки вообще).\n",
    "\n",
    "### Варианты\n",
    "\n",
    "1. User-based подход, Косинусная мера сходства.\n",
    "2. User-based подход, Корреляция Пирсона.\n",
    "3. User-based подход, Мера близости Жаккара.\n",
    "4. Item-based подход, Косинусная мера сходства.\n",
    "5. Item-based подход, Корреляция Пирсона\n",
    "6. Item-based подход, Мера близости Жаккара.\n"
   ]
  },
  {
   "cell_type": "markdown",
   "metadata": {},
   "source": [
    "## Код"
   ]
  },
  {
   "cell_type": "markdown",
   "metadata": {},
   "source": [
    "Устанавливаем библиотеки"
   ]
  },
  {
   "cell_type": "code",
   "execution_count": 1,
   "metadata": {},
   "outputs": [],
   "source": [
    "#%pip install pandas tqdm"
   ]
  },
  {
   "cell_type": "markdown",
   "metadata": {},
   "source": [
    "Импорты"
   ]
  },
  {
   "cell_type": "code",
   "execution_count": 2,
   "metadata": {},
   "outputs": [],
   "source": [
    "# Пандас нам нужен для загрузки csv и работы с матрицей\n",
    "import pandas as pd\n",
    "# Это библиотека для визуализации прогресса в питоновском ноутбуке\n",
    "from tqdm.notebook import tqdm\n",
    "\n",
    "import math\n",
    "import time\n",
    "import numpy as np"
   ]
  },
  {
   "cell_type": "markdown",
   "metadata": {},
   "source": [
    "Загружаем датасет"
   ]
  },
  {
   "cell_type": "code",
   "execution_count": 3,
   "metadata": {},
   "outputs": [],
   "source": [
    "# Сам датасет\n",
    "ratings = pd.read_csv('./ml-latest-small/ratings.csv', delimiter=',')\n",
    "# Оставляем в таблице только нужные столбцы\n",
    "ratings = ratings.loc[:, [\"userId\", \"movieId\", \"rating\"]]\n",
    "\n",
    "# Строка в таблице в датасета это id пользователя, id фильма, рейтинг\n",
    "# На id пользователей нам плевать, а фильмы хочется смотреть по названиям,\n",
    "# поэтому загружаем табличку сопоставления названий фильмов их id\n",
    "movies = pd.read_csv('./ml-latest-small/movies.csv', delimiter=',')"
   ]
  },
  {
   "cell_type": "code",
   "execution_count": 4,
   "metadata": {},
   "outputs": [
    {
     "name": "stdout",
     "output_type": "stream",
     "text": [
      "                                      movieId\n",
      "title                                        \n",
      "Iron Man (2008)                         59315\n",
      "Doctor Who: A Christmas Carol (2010)   147376\n",
      "                                        title\n",
      "movieId                                      \n",
      "59315                         Iron Man (2008)\n",
      "147376   Doctor Who: A Christmas Carol (2010)\n"
     ]
    }
   ],
   "source": [
    "# Делаем таблицу для преобразования имени в id\n",
    "title_to_id = movies.loc[:, [\"title\", \"movieId\"]]\n",
    "title_to_id.set_index(\"title\", inplace=True)\n",
    "\n",
    "# Делаем таблицу для преобразования id в имя\n",
    "id_to_title = movies.loc[:, [\"movieId\", \"title\"]]\n",
    "id_to_title.set_index(\"movieId\", inplace=True)\n",
    "\n",
    "# Проверяем что всё работает\n",
    "print(title_to_id.loc[[\"Iron Man (2008)\", \"Doctor Who: A Christmas Carol (2010)\"], :])\n",
    "print(id_to_title.loc[[59315, 147376], :])\n"
   ]
  },
  {
   "cell_type": "code",
   "execution_count": 5,
   "metadata": {},
   "outputs": [],
   "source": [
    "# Мы хотим получить для себя какую-то рекомендацию,\n",
    "# для этого оценим несколько фильмов по пятибальной шкале\n",
    "# (аккуратно копипастим имена из датасета)\n",
    "my_ratings = {\n",
    "        \"Toy Story (1995)\": 3.0,\n",
    "        \"Jumanji (1995)\": 2.0,\n",
    "        \"It Takes Two (1995)\": 1.0,\n",
    "        \"Mortal Kombat (1995)\": 2.0,\n",
    "        \"Taxi Driver (1976)\": 5.0,\n",
    "        \"Scarface (1983)\": 5.0,\n",
    "        \"Saw (2004)\": 4.0,\n",
    "      \"xXx: State of the Union (2005)\": 0.0,\n",
    "      \"V for Vendetta (2006)\": 4.0,\n",
    "      \"Night at the Museum (2006)\": 3.0,\n",
    "      \"Pirates of the Caribbean: At World's End (2007)\": 5.0,\n",
    "    \"Harry Potter and the Order of the Phoenix (2007)\":1.0,\n",
    "    \"Resident Evil: Extinction (2007)\":3.0,\n",
    "    \"Zebraman (2004)\":1.0,\n",
    "    \"Max Payne (2008)\":3.0,\n",
    "    \"Madagascar: Escape 2 Africa (2008)\":4.0,\n",
    "    \"Shrek the Halls (2007)\":2.0,\n",
    "    \"Drive (2011)\":5.0,\n",
    "    \"Casino (1995)\":5.0,\n",
    "    \"LEGO Batman: The Movie - DC Heroes Unite (2013)\": 4.0,\n",
    "    \"Lord of the Rings: The Fellowship of the Ring, The (2001)\": 4.0,\n",
    "    \"Back to the Future (1985)\": 3.0,\n",
    "    \"Iron Man (2008)\": 4.0,\n",
    "}\n",
    "\n",
    "# Даём нашему юзеру id, которого нет в датасете\n",
    "my_user_id = 666\n",
    "# Докидываем свои оценки в датасет\n",
    "for m, r in my_ratings.items():\n",
    "    mid = title_to_id.loc[m][\"movieId\"]\n",
    "    row = pd.DataFrame([[my_user_id, mid, r]], columns=[\"userId\", \"movieId\", \"rating\"])\n",
    "    ratings = pd.concat([ratings, row])\n",
    "ratings=ratings.reset_index(drop=True)"
   ]
  },
  {
   "cell_type": "code",
   "execution_count": 6,
   "metadata": {},
   "outputs": [],
   "source": [
    "# Тут реализуем функцию предсказания.\n",
    "# Или класс. Главное - предсказать.\n",
    "def S (u,v,s_down1,s_down2):\n",
    "    s_up=0\n",
    "    a= list(set( ratings.loc[ratings['userId'] == u]['movieId']).intersection(ratings.loc[ratings['userId'] == v]['movieId']))\n",
    "    for i in a:\n",
    "        s_up+=(ratings.loc[(ratings['userId'] == v)&(ratings['movieId']==i)]['rating'].reset_index(drop=True)[0]*\n",
    "               ratings.loc[(ratings['userId'] == u)&(ratings['movieId']==i)]['rating'].reset_index(drop=True)[0])\n",
    "    \n",
    "        #print (s_up/((s_down1*s_down1)**(0.5)))\n",
    "    return (s_up/((s_down1*s_down2[v])**(0.5)))\n",
    "def r_mid(u):\n",
    "    return ratings.loc[ratings['userId'] == u][\"rating\"].mean()\n",
    "def predict(user_id, movie_id,s_down1,s_down2):\n",
    "    pred=0      \n",
    "    if (ratings.loc[ratings['userId'] == user_id][\"movieId\"].isin([movie_id]).any()):\n",
    "        pred=ratings.loc[(ratings['userId'] == user_id)&(ratings['movieId']==movie_id)]['rating'].reset_index(drop=True)[0]\n",
    "    else:\n",
    "        r_up=0\n",
    "        r_down=0\n",
    "        \n",
    "        for i in (ratings.loc[ratings['movieId'] == movie_id]['userId']):\n",
    "            a= list(set( ratings.loc[ratings['userId'] == user_id]['movieId']).intersection(ratings.loc[ratings['userId'] == i]['movieId']))\n",
    "            if a:\n",
    "                s=S(user_id,i,s_down1,s_down2)\n",
    "                r_up += s*(ratings.loc[(ratings['userId'] == i)&(ratings['movieId']==movie_id)]['rating'].reset_index(drop=True)[0]-r_mid(i))\n",
    "                r_down+=abs(s)\n",
    "        if r_down==0:\n",
    "            pred=0.0\n",
    "        else:\n",
    "            pred=r_mid(user_id)+r_up/r_down\n",
    "    #print (r_up)\n",
    "    return pred\n"
   ]
  },
  {
   "cell_type": "markdown",
   "metadata": {},
   "source": [
    "Даём предсказание для каждого фильма"
   ]
  },
  {
   "cell_type": "code",
   "execution_count": 7,
   "metadata": {},
   "outputs": [
    {
     "data": {
      "application/vnd.jupyter.widget-view+json": {
       "model_id": "10526566d6d5493cbf4e67e0b526651d",
       "version_major": 2,
       "version_minor": 0
      },
      "text/plain": [
       "  0%|          | 0/9724 [00:00<?, ?it/s]"
      ]
     },
     "metadata": {},
     "output_type": "display_data"
    }
   ],
   "source": [
    "from collections import Counter\n",
    "result = {}\n",
    "s_down2={}\n",
    "\n",
    "count=Counter(ratings['movieId'])\n",
    "l= ratings.loc[ratings['userId'] == my_user_id]['rating']\n",
    "s_down1=sum(i*i for i in l)\n",
    "for i in ratings['userId'].drop_duplicates().reset_index(drop=True):\n",
    "    q= ratings.loc[ratings['userId'] == i]['rating']\n",
    "    s_down2[i]=sum(w*w for w in q)\n",
    "for m in tqdm(ratings['movieId'].drop_duplicates().reset_index(drop=True)):\n",
    "    if ratings.loc[ratings['userId'] == my_user_id][\"movieId\"].isin([m]).any() or count[m]<10:\n",
    "        result[m]=-1\n",
    "    else:\n",
    "        result[m] = predict(my_user_id, m,s_down1,s_down2)\n",
    "    #print(result.items())\n",
    "result = {k: v for k, v in result.items()}"
   ]
  },
  {
   "cell_type": "code",
   "execution_count": 8,
   "metadata": {},
   "outputs": [
    {
     "data": {
      "text/plain": [
       "3.1739130434782608"
      ]
     },
     "execution_count": 8,
     "metadata": {},
     "output_type": "execute_result"
    }
   ],
   "source": [
    "r_mid(my_user_id)"
   ]
  },
  {
   "cell_type": "markdown",
   "metadata": {},
   "source": [
    "Выводим результат"
   ]
  },
  {
   "cell_type": "code",
   "execution_count": 9,
   "metadata": {},
   "outputs": [
    {
     "name": "stdout",
     "output_type": "stream",
     "text": [
      "Yojimbo (1961) :  4.288600948005017\n",
      "Guess Who's Coming to Dinner (1967) :  4.165239978110484\n",
      "Ran (1985) :  4.133783294298267\n",
      "Cyrano de Bergerac (1990) :  4.1283364240633995\n",
      "His Girl Friday (1940) :  4.0618820508000955\n",
      "Streetcar Named Desire, A (1951) :  4.047734049010782\n",
      "Touch of Evil (1958) :  4.038232756092716\n",
      "Meet Me in St. Louis (1944) :  4.03635765780431\n",
      "Top Secret! (1984) :  4.024535107055778\n",
      "The Artist (2011) :  4.0224964505346215\n",
      "Wallace & Gromit: The Best of Aardman Animation (1996) :  3.9937805655778367\n",
      "Creature Comforts (1989) :  3.9881368978497465\n",
      "Hustler, The (1961) :  3.9652642419144213\n",
      "Ghost in the Shell (Kôkaku kidôtai) (1995) :  3.9609446509047332\n",
      "Wild Bunch, The (1969) :  3.9432560329425295\n",
      "Kelly's Heroes (1970) :  3.9388822438889486\n",
      "Roman Holiday (1953) :  3.9387695982892756\n",
      "Outlaw Josey Wales, The (1976) :  3.9352264799360586\n",
      "Paths of Glory (1957) :  3.9329973383281636\n",
      "Louis C.K.: Live at the Beacon Theater (2011) :  3.928256444835569\n",
      "Brick (2005) :  3.9252525300189935\n",
      "Three Colors: Red (Trois couleurs: Rouge) (1994) :  3.9214601447002715\n",
      "Secrets & Lies (1996) :  3.9139325525128488\n",
      "Ghost Dog: The Way of the Samurai (1999) :  3.909743209797562\n",
      "Lawrence of Arabia (1962) :  3.9095768683774303\n",
      "Drunken Master (Jui kuen) (1978) :  3.909563101307869\n",
      "Evil Dead II (Dead by Dawn) (1987) :  3.906725311676768\n",
      "Cat on a Hot Tin Roof (1958) :  3.9031205564511993\n",
      "Batman: Mask of the Phantasm (1993) :  3.8785369508168017\n",
      "Good, the Bad and the Ugly, The (Buono, il brutto, il cattivo, Il) (1966) :  3.8762461455362116\n"
     ]
    }
   ],
   "source": [
    "# Преобразуем id фильмов в нормальные названия\n",
    "human_readable_result = {}\n",
    "for m, v in result.items():\n",
    "    title = id_to_title.loc[m][\"title\"]\n",
    "    human_readable_result[title] = v\n",
    "\n",
    "# Сортируем массив с результатами по убыванию\n",
    "sorted_result = {k: v for k, v in sorted(human_readable_result.items(), key=lambda item: item[1], reverse=True) if v != 0.0}\n",
    "\n",
    "# Выводим первые 20 рекомендаций\n",
    "for m, v in list(sorted_result.items())[:30]:\n",
    "    print(m, \": \", v)\n"
   ]
  },
  {
   "cell_type": "markdown",
   "metadata": {},
   "source": [
    "## Выводы\n",
    "\n",
    "Объясните полученный результат:"
   ]
  },
  {
   "cell_type": "markdown",
   "metadata": {},
   "source": [
    "Субъективно, выбранная рекомендательная имеет достаточно посредственный характер, но после того, что фильм должен быть оценен хотя бы 10 пользователями, выборка стала собираться более внятно."
   ]
  },
  {
   "cell_type": "code",
   "execution_count": 10,
   "metadata": {},
   "outputs": [
    {
     "ename": "NameError",
     "evalue": "name 'stop' is not defined",
     "output_type": "error",
     "traceback": [
      "\u001b[1;31m---------------------------------------------------------------------------\u001b[0m",
      "\u001b[1;31mNameError\u001b[0m                                 Traceback (most recent call last)",
      "Cell \u001b[1;32mIn[10], line 1\u001b[0m\n\u001b[1;32m----> 1\u001b[0m \u001b[43mstop\u001b[49m\n",
      "\u001b[1;31mNameError\u001b[0m: name 'stop' is not defined"
     ]
    }
   ],
   "source": [
    "stop"
   ]
  },
  {
   "cell_type": "markdown",
   "metadata": {},
   "source": [
    "первый вариант"
   ]
  },
  {
   "cell_type": "code",
   "execution_count": null,
   "metadata": {},
   "outputs": [],
   "source": [
    "# Тут реализуем функцию предсказания.\n",
    "# Или класс. Главное - предсказать.\n",
    "def S (u,v):\n",
    "    s_up=0\n",
    "    s_down1=0\n",
    "    s_down2=0\n",
    "    a= list(set( ratings.loc[ratings['userId'] == u]['movieId']).intersection(ratings.loc[ratings['userId'] == v]['movieId']))\n",
    "    for i in a:\n",
    "        s_up+=(ratings.loc[(ratings['userId'] == v)&(ratings['movieId']==i)]['rating'].reset_index(drop=True)[0]*\n",
    "               ratings.loc[(ratings['userId'] == u)&(ratings['movieId']==i)]['rating'].reset_index(drop=True)[0])\n",
    "        s_down1+= ratings.loc[(ratings['userId'] == u)&(ratings['movieId']==i)]['rating'].reset_index(drop=True)[0]**2\n",
    "        s_down2+= ratings.loc[(ratings['userId'] == v)&(ratings['movieId']==i)]['rating'].reset_index(drop=True)[0]**2\n",
    "        #print (s_up/((s_down1*s_down1)**(0.5)))\n",
    "    return (s_up/((s_down1*s_down2)**(0.5)))\n",
    "def r_mid(u):\n",
    "    return ratings.loc[ratings['userId'] == u][\"rating\"].mean()\n",
    "def predict(user_id, movie_id):\n",
    "    pred=0\n",
    "    if (ratings.loc[ratings['userId'] == user_id][\"movieId\"].isin([movie_id]).any()):\n",
    "        pred=ratings.loc[(ratings['userId'] == user_id)&(ratings['movieId']==movie_id)]['rating'].reset_index(drop=True)[0]\n",
    "    else:\n",
    "        r_up=0\n",
    "        r_down=0\n",
    "        for i in (ratings.loc[ratings['movieId'] == movie_id]['userId']):\n",
    "            a= list(set( ratings.loc[ratings['userId'] == user_id]['movieId']).intersection(ratings.loc[ratings['userId'] == i]['movieId']))\n",
    "            if a:\n",
    "                s=S(user_id,i)\n",
    "                r_up += s*(ratings.loc[(ratings['userId'] == i)&(ratings['movieId']==movie_id)]['rating'].reset_index(drop=True)[0]-r_mid(i))\n",
    "                r_down+=abs(s)\n",
    "        if r_down==0:\n",
    "            pred=0.0\n",
    "        else:\n",
    "            pred=r_mid(user_id)+r_up/r_down\n",
    "    #print (r_up)\n",
    "    return pred\n",
    "\n",
    "\n",
    "result = {}\n",
    "for m in tqdm(ratings['movieId'].drop_duplicates().reset_index(drop=True)):\n",
    "    result[m] = predict(my_user_id, m)\n",
    "    #print(result.items())\n",
    "result = {k: v for k, v in result.items()}"
   ]
  }
 ],
 "metadata": {
  "kernelspec": {
   "display_name": "Python 3 (ipykernel)",
   "language": "python",
   "name": "python3"
  },
  "language_info": {
   "codemirror_mode": {
    "name": "ipython",
    "version": 3
   },
   "file_extension": ".py",
   "mimetype": "text/x-python",
   "name": "python",
   "nbconvert_exporter": "python",
   "pygments_lexer": "ipython3",
   "version": "3.10.9"
  }
 },
 "nbformat": 4,
 "nbformat_minor": 2
}
