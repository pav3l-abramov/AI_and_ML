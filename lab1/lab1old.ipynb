{
 "cells": [
  {
   "cell_type": "markdown",
   "metadata": {},
   "source": [
    "# Лаб 1. Корреляционная система\n",
    "\n",
    "При создании задания использовались Visual Studio Code и Python 3.8."
   ]
  },
  {
   "cell_type": "markdown",
   "metadata": {},
   "source": [
    "## Теория\n",
    "\n",
    "Данные для рекомендательных систем представляют из себя матрицу $R$ юзер-айтемов, в строках которой находятся пользователи, а в столбцах объекты. В ячейках матрицы находятся оценки пользователей (или какая-то другая метрика $-$ просмотры, покупки и т.д.):\n",
    "\n",
    "$$\n",
    "R = \\begin{pmatrix}\n",
    "   r_{1 1} & r_{1 2} & ...     &    \\\\\n",
    "   r_{2 1} & r_{2 1} & ...     &     \\\\\n",
    "   ...     & ...     & r_{u i} & ... \\\\\n",
    "           &         & ...     &     \\\\\n",
    "\\end{pmatrix}\n",
    "$$\n",
    "\n",
    "Матрица $R$ сильно разрежена, то есть большая часть ячеек пуста, поскольку каждый пользователь взаимодействовал с очень малым числом объектов. Задача $-$ предсказать значения в пустых ячейках, то есть получить новую заполненную матрицу $\\hat R$, максимально похожую на $R$."
   ]
  },
  {
   "cell_type": "markdown",
   "metadata": {},
   "source": [
    "### Обозначения\n",
    "\n",
    "- $U - $ множество пользователей;\n",
    "- $I - $ множество айтемов (объектов);\n",
    "- $I(u)$, где $u \\in U -$ множество айтемов, которое оценил пользователь $u$. То есть такие айтемы, для которых в строке $u$ матрицы $R$ не пусто. Аналогично $I(u, v) -$ множество объектов, которые оценили и $u$ и $v$;\n",
    "- $U(u)$, где $u \\in U -$ Множество пользователей, оценивали то же что и $u$, то есть $I(u) \\cap I(v) \\ne \\empty$, где $v \\in U(u)$;\n",
    "- $r_u$, где $u \\in U -$ строка матрицы $R$, соответствующая пользователю $u$;\n",
    "- $r_i$, где $i \\in I -$ столбец матрицы $R$, соответствующий айтему $i$;\n",
    "- $\\bar r_u$, где $u \\in U -$ среднее значение по всем заполненным оценкам пользователя $u$."
   ]
  },
  {
   "cell_type": "markdown",
   "metadata": {},
   "source": [
    "\n",
    "### Корреляционная модель\n",
    "\n",
    "Один из самых простых способов $-$ использовать взвешенное среднее. То есть, чтобы определить оценку пользователя $u$ айтема $i$, надо усреднить оценки всех пользователей, посмотревших этот фильм (user-based подход). При этом будем учитывать оценку пользователя с большим коэффициентом если пользователь \"похож\" на нашего:\n",
    "\n",
    "$$\n",
    "\\hat{r}_{ui} = \\frac{\n",
    "        \\sum_{v \\in U(u)} S(u, v)\\cdot r_v\n",
    "    } {\n",
    "        \\sum_{v \\in U(u)} S(u, v)\n",
    "    }\n",
    "$$\n",
    "\n",
    "Здесь $S$ это функция близости, которая тем больше, чем более \"похожи\" пользователи друг на друга.\n",
    "\n",
    "Поскольку оценки разных пользователей могут отличаться $-$ кто-то ставит всем фильмам 9 и 10, а кто-то 0 и 1, можно попытаться устранить проблему, предсказывая не само значение $r_u$, а отклонение от среднего значения $(r_u - \\bar{r}_u)$:\n",
    "\n",
    "$$\n",
    "\\hat{r}_{ui} = \\bar{r}_{u} + \\frac{\n",
    "        \\sum_{v \\in U(u)} S(u, v) \\cdot (r_v - \\bar r_v)\n",
    "    } {\n",
    "        \\sum_{v \\in U(u)} S(u, v)\n",
    "    }\n",
    "$$\n"
   ]
  },
  {
   "cell_type": "markdown",
   "metadata": {},
   "source": [
    "\n",
    "### Функция сходства\n",
    "\n",
    "Будем рассматривать функцию сходства двух юзером для user-based модели, функции сходства для айтемов определяется аналогично.\n",
    "\n",
    "#### Косинусная мера сходства\n",
    "\n",
    "Считаем косинус угла между пользователями в пространстве определяющих их векторов. То есть берём скалярное произведение и делим на длины векторов. Единственное, на что следует обратит внимание, что берутся не все оценки пользователей, а только для тех айтемов, которые они оба оценили:\n",
    "\n",
    "$$\n",
    "S(u, v) = \\frac{\n",
    "        \\sum_{i \\in I(u, v)} r_{ui}r_{vi}\n",
    "    }{\n",
    "        \\sqrt{\\sum_{i \\in I(u)} r_{ui}^2}\n",
    "        \\sqrt{\\sum_{i \\in I(v)} r_{vi}^2}\n",
    "    }\n",
    "$$\n"
   ]
  },
  {
   "cell_type": "markdown",
   "metadata": {},
   "source": [
    "## Задание\n",
    "\n",
    "Дан датасет с оценками пользователями фильмов. Реализуйте алгоритм в соответствии с вашим вариантом и порекомендуйте себе фильмы. Сделайте выводы.\n",
    "\n",
    "В датасете фильмы оценены по пятибальной шкале. Если в вашем варианте используется функция сходства для бинарных данных, используйте факт просмотра фильма (наличие оценки вообще).\n",
    "\n",
    "### Варианты\n",
    "\n",
    "1. User-based подход, Косинусная мера сходства.\n",
    "2. User-based подход, Корреляция Пирсона.\n",
    "3. User-based подход, Мера близости Жаккара.\n",
    "4. Item-based подход, Косинусная мера сходства.\n",
    "5. Item-based подход, Корреляция Пирсона\n",
    "6. Item-based подход, Мера близости Жаккара.\n"
   ]
  },
  {
   "cell_type": "markdown",
   "metadata": {},
   "source": [
    "## Код"
   ]
  },
  {
   "cell_type": "markdown",
   "metadata": {},
   "source": [
    "Устанавливаем библиотеки"
   ]
  },
  {
   "cell_type": "code",
   "execution_count": 1,
   "metadata": {},
   "outputs": [],
   "source": [
    "#%pip install pandas tqdm"
   ]
  },
  {
   "cell_type": "markdown",
   "metadata": {},
   "source": [
    "Импорты"
   ]
  },
  {
   "cell_type": "code",
   "execution_count": 2,
   "metadata": {},
   "outputs": [],
   "source": [
    "# Пандас нам нужен для загрузки csv и работы с матрицей\n",
    "import pandas as pd\n",
    "# Это библиотека для визуализации прогресса в питоновском ноутбуке\n",
    "from tqdm.notebook import tqdm\n",
    "\n",
    "import math\n",
    "import time\n",
    "import numpy as np"
   ]
  },
  {
   "cell_type": "markdown",
   "metadata": {},
   "source": [
    "Загружаем датасет"
   ]
  },
  {
   "cell_type": "code",
   "execution_count": 3,
   "metadata": {},
   "outputs": [],
   "source": [
    "# Сам датасет\n",
    "ratings = pd.read_csv('./ml-latest-small/ratings.csv', delimiter=',')\n",
    "# Оставляем в таблице только нужные столбцы\n",
    "ratings = ratings.loc[:, [\"userId\", \"movieId\", \"rating\"]]\n",
    "\n",
    "# Строка в таблице в датасета это id пользователя, id фильма, рейтинг\n",
    "# На id пользователей нам плевать, а фильмы хочется смотреть по названиям,\n",
    "# поэтому загружаем табличку сопоставления названий фильмов их id\n",
    "movies = pd.read_csv('./ml-latest-small/movies.csv', delimiter=',')"
   ]
  },
  {
   "cell_type": "code",
   "execution_count": 4,
   "metadata": {},
   "outputs": [
    {
     "name": "stdout",
     "output_type": "stream",
     "text": [
      "                                      movieId\n",
      "title                                        \n",
      "Iron Man (2008)                         59315\n",
      "Doctor Who: A Christmas Carol (2010)   147376\n",
      "                                        title\n",
      "movieId                                      \n",
      "59315                         Iron Man (2008)\n",
      "147376   Doctor Who: A Christmas Carol (2010)\n"
     ]
    }
   ],
   "source": [
    "# Делаем таблицу для преобразования имени в id\n",
    "title_to_id = movies.loc[:, [\"title\", \"movieId\"]]\n",
    "title_to_id.set_index(\"title\", inplace=True)\n",
    "\n",
    "# Делаем таблицу для преобразования id в имя\n",
    "id_to_title = movies.loc[:, [\"movieId\", \"title\"]]\n",
    "id_to_title.set_index(\"movieId\", inplace=True)\n",
    "\n",
    "# Проверяем что всё работает\n",
    "print(title_to_id.loc[[\"Iron Man (2008)\", \"Doctor Who: A Christmas Carol (2010)\"], :])\n",
    "print(id_to_title.loc[[59315, 147376], :])\n"
   ]
  },
  {
   "cell_type": "code",
   "execution_count": 5,
   "metadata": {},
   "outputs": [
    {
     "data": {
      "text/html": [
       "<div>\n",
       "<style scoped>\n",
       "    .dataframe tbody tr th:only-of-type {\n",
       "        vertical-align: middle;\n",
       "    }\n",
       "\n",
       "    .dataframe tbody tr th {\n",
       "        vertical-align: top;\n",
       "    }\n",
       "\n",
       "    .dataframe thead th {\n",
       "        text-align: right;\n",
       "    }\n",
       "</style>\n",
       "<table border=\"1\" class=\"dataframe\">\n",
       "  <thead>\n",
       "    <tr style=\"text-align: right;\">\n",
       "      <th></th>\n",
       "      <th>userId</th>\n",
       "      <th>movieId</th>\n",
       "      <th>rating</th>\n",
       "    </tr>\n",
       "  </thead>\n",
       "  <tbody>\n",
       "    <tr>\n",
       "      <th>0</th>\n",
       "      <td>1</td>\n",
       "      <td>1</td>\n",
       "      <td>4.0</td>\n",
       "    </tr>\n",
       "    <tr>\n",
       "      <th>1</th>\n",
       "      <td>1</td>\n",
       "      <td>3</td>\n",
       "      <td>4.0</td>\n",
       "    </tr>\n",
       "    <tr>\n",
       "      <th>2</th>\n",
       "      <td>1</td>\n",
       "      <td>6</td>\n",
       "      <td>4.0</td>\n",
       "    </tr>\n",
       "    <tr>\n",
       "      <th>3</th>\n",
       "      <td>1</td>\n",
       "      <td>47</td>\n",
       "      <td>5.0</td>\n",
       "    </tr>\n",
       "    <tr>\n",
       "      <th>4</th>\n",
       "      <td>1</td>\n",
       "      <td>50</td>\n",
       "      <td>5.0</td>\n",
       "    </tr>\n",
       "    <tr>\n",
       "      <th>...</th>\n",
       "      <td>...</td>\n",
       "      <td>...</td>\n",
       "      <td>...</td>\n",
       "    </tr>\n",
       "    <tr>\n",
       "      <th>100831</th>\n",
       "      <td>610</td>\n",
       "      <td>166534</td>\n",
       "      <td>4.0</td>\n",
       "    </tr>\n",
       "    <tr>\n",
       "      <th>100832</th>\n",
       "      <td>610</td>\n",
       "      <td>168248</td>\n",
       "      <td>5.0</td>\n",
       "    </tr>\n",
       "    <tr>\n",
       "      <th>100833</th>\n",
       "      <td>610</td>\n",
       "      <td>168250</td>\n",
       "      <td>5.0</td>\n",
       "    </tr>\n",
       "    <tr>\n",
       "      <th>100834</th>\n",
       "      <td>610</td>\n",
       "      <td>168252</td>\n",
       "      <td>5.0</td>\n",
       "    </tr>\n",
       "    <tr>\n",
       "      <th>100835</th>\n",
       "      <td>610</td>\n",
       "      <td>170875</td>\n",
       "      <td>3.0</td>\n",
       "    </tr>\n",
       "  </tbody>\n",
       "</table>\n",
       "<p>100836 rows × 3 columns</p>\n",
       "</div>"
      ],
      "text/plain": [
       "        userId  movieId  rating\n",
       "0            1        1     4.0\n",
       "1            1        3     4.0\n",
       "2            1        6     4.0\n",
       "3            1       47     5.0\n",
       "4            1       50     5.0\n",
       "...        ...      ...     ...\n",
       "100831     610   166534     4.0\n",
       "100832     610   168248     5.0\n",
       "100833     610   168250     5.0\n",
       "100834     610   168252     5.0\n",
       "100835     610   170875     3.0\n",
       "\n",
       "[100836 rows x 3 columns]"
      ]
     },
     "execution_count": 5,
     "metadata": {},
     "output_type": "execute_result"
    }
   ],
   "source": [
    "ratings"
   ]
  },
  {
   "cell_type": "code",
   "execution_count": 16,
   "metadata": {},
   "outputs": [],
   "source": [
    "# Мы хотим получить для себя какую-то рекомендацию,\n",
    "# для этого оценим несколько фильмов по пятибальной шкале\n",
    "# (аккуратно копипастим имена из датасета)\n",
    "my_ratings = {\n",
    "        \"Toy Story (1995)\": 3.0,\n",
    "        \"Jumanji (1995)\": 2.0,\n",
    "        \"It Takes Two (1995)\": 1.0,\n",
    "        \"Mortal Kombat (1995)\": 2.0,\n",
    "        \"Taxi Driver (1976)\": 5.0,\n",
    "        \"Scarface (1983)\": 5.0,\n",
    "        \"Saw (2004)\": 4.0,\n",
    "      \"xXx: State of the Union (2005)\": 0.0,\n",
    "      \"V for Vendetta (2006)\": 4.0,\n",
    "      \"Night at the Museum (2006)\": 3.0,\n",
    "      \"Pirates of the Caribbean: At World's End (2007)\": 5.0,\n",
    "    \"Harry Potter and the Order of the Phoenix (2007)\":2.0,\n",
    "    \"Resident Evil: Extinction (2007)\":3.0,\n",
    "    \"Zebraman (2004)\":2.0,\n",
    "    \"Max Payne (2008)\":3.0,\n",
    "    \"Madagascar: Escape 2 Africa (2008)\":4.0,\n",
    "    \"Shrek the Halls (2007)\":2.0,\n",
    "    \"Drive (2011)\":5.0,\n",
    "    \"Casino (1995)\":5.0,\n",
    "    \"Star Wars: Episode IV - A New Hope (1977)\": 2.0,\n",
    "    \"Star Wars: Episode I - The Phantom Menace (1999)\": 3.0,\n",
    "    \"LEGO Batman: The Movie - DC Heroes Unite (2013)\": 4.0,\n",
    "    \"Lord of the Rings: The Fellowship of the Ring, The (2001)\": 4.0,\n",
    "    \"Back to the Future (1985)\": 4.0,\n",
    "    \"Iron Man (2008)\": 5.0,\n",
    "    \"Avengers, The (2012)\": 2.0, \n",
    "}\n",
    "\n",
    "# Даём нашему юзеру id, которого нет в датасете\n",
    "my_user_id = 666\n",
    "# Докидываем свои оценки в датасет\n",
    "for m, r in my_ratings.items():\n",
    "    mid = title_to_id.loc[m][\"movieId\"]\n",
    "    row = pd.DataFrame([[my_user_id, mid, r]], columns=[\"userId\", \"movieId\", \"rating\"])\n",
    "    ratings = pd.concat([ratings, row])\n",
    "ratings=ratings.reset_index(drop=True)"
   ]
  },
  {
   "cell_type": "code",
   "execution_count": 17,
   "metadata": {},
   "outputs": [
    {
     "data": {
      "text/plain": [
       "100836    147376\n",
       "100837       260\n",
       "100838      2628\n",
       "100839    103233\n",
       "100840      4993\n",
       "100841      1270\n",
       "100842     59315\n",
       "100843     89745\n",
       "100844    179819\n",
       "100845         1\n",
       "100846         2\n",
       "100847        38\n",
       "100848        44\n",
       "100849       111\n",
       "100850      4262\n",
       "100851      8957\n",
       "100852     33158\n",
       "100853     44191\n",
       "100854     46972\n",
       "100855     53125\n",
       "100856     54001\n",
       "100857     55232\n",
       "100858     58870\n",
       "100859     62394\n",
       "100860     62999\n",
       "100861     64249\n",
       "100862     88129\n",
       "100863        16\n",
       "100864       260\n",
       "100865      2628\n",
       "100866    103233\n",
       "100867      4993\n",
       "100868      1270\n",
       "100869     59315\n",
       "100870     89745\n",
       "Name: movieId, dtype: int64"
      ]
     },
     "execution_count": 17,
     "metadata": {},
     "output_type": "execute_result"
    }
   ],
   "source": [
    "ratings.loc[ratings['userId'] == 666]['movieId']"
   ]
  },
  {
   "cell_type": "code",
   "execution_count": 18,
   "metadata": {},
   "outputs": [
    {
     "data": {
      "text/plain": [
       "5.0"
      ]
     },
     "execution_count": 18,
     "metadata": {},
     "output_type": "execute_result"
    }
   ],
   "source": [
    "ratings.loc[(ratings['userId'] == 666)&(ratings['movieId']==260)]['rating'].reset_index(drop=True)[0]"
   ]
  },
  {
   "cell_type": "code",
   "execution_count": 19,
   "metadata": {},
   "outputs": [
    {
     "data": {
      "text/plain": [
       "True"
      ]
     },
     "execution_count": 19,
     "metadata": {},
     "output_type": "execute_result"
    }
   ],
   "source": [
    "ratings.loc[ratings['userId'] == 666][\"movieId\"].isin([260]).any()"
   ]
  },
  {
   "cell_type": "markdown",
   "metadata": {},
   "source": [
    "\n",
    "### Функция сходства\n",
    "\n",
    "Будем рассматривать функцию сходства двух юзером для user-based модели, функции сходства для айтемов определяется аналогично.\n",
    "\n",
    "#### Косинусная мера сходства\n",
    "\n",
    "Считаем косинус угла между пользователями в пространстве определяющих их векторов. То есть берём скалярное произведение и делим на длины векторов. Единственное, на что следует обратит внимание, что берутся не все оценки пользователей, а только для тех айтемов, которые они оба оценили:\n",
    "\n",
    "$$\n",
    "S(u, v) = \\frac{\n",
    "        \\sum_{i \\in I(u, v)} r_{ui}r_{vi}\n",
    "    }{\n",
    "        \\sqrt{\\sum_{i \\in I(u)} r_{ui}^2}\n",
    "        \\sqrt{\\sum_{i \\in I(v)} r_{vi}^2}\n",
    "    }\n",
    "$$\n"
   ]
  },
  {
   "cell_type": "markdown",
   "metadata": {},
   "source": [
    "\n",
    "### Корреляционная модель\n",
    "\n",
    "Один из самых простых способов $-$ использовать взвешенное среднее. То есть, чтобы определить оценку пользователя $u$ айтема $i$, надо усреднить оценки всех пользователей, посмотревших этот фильм (user-based подход). При этом будем учитывать оценку пользователя с большим коэффициентом если пользователь \"похож\" на нашего:\n",
    "\n",
    "$$\n",
    "\\hat{r}_{ui} = \\frac{\n",
    "        \\sum_{v \\in U(u)} S(u, v)\\cdot r_v\n",
    "    } {\n",
    "        \\sum_{v \\in U(u)} S(u, v)\n",
    "    }\n",
    "$$\n",
    "\n",
    "Здесь $S$ это функция близости, которая тем больше, чем более \"похожи\" пользователи друг на друга.\n",
    "\n",
    "Поскольку оценки разных пользователей могут отличаться $-$ кто-то ставит всем фильмам 9 и 10, а кто-то 0 и 1, можно попытаться устранить проблему, предсказывая не само значение $r_u$, а отклонение от среднего значения $(r_u - \\bar{r}_u)$:\n",
    "\n",
    "$$\n",
    "\\hat{r}_{ui} = \\bar{r}_{u} + \\frac{\n",
    "        \\sum_{v \\in U(u)} S(u, v) \\cdot (r_v - \\bar r_v)\n",
    "    } {\n",
    "        \\sum_{v \\in U(u)} S(u, v)\n",
    "    }\n",
    "$$\n"
   ]
  },
  {
   "cell_type": "code",
   "execution_count": 20,
   "metadata": {},
   "outputs": [],
   "source": [
    "# Тут реализуем функцию предсказания.\n",
    "# Или класс. Главное - предсказать.\n",
    "def S (u,v):\n",
    "    s_up=0\n",
    "    s_down1=0\n",
    "    s_down2=0\n",
    "    a= list(set( ratings.loc[ratings['userId'] == u]['movieId']).intersection(ratings.loc[ratings['userId'] == v]['movieId']))\n",
    "    for i in a:\n",
    "        s_up+=(ratings.loc[(ratings['userId'] == v)&(ratings['movieId']==i)]['rating'].reset_index(drop=True)[0]*\n",
    "               ratings.loc[(ratings['userId'] == u)&(ratings['movieId']==i)]['rating'].reset_index(drop=True)[0])\n",
    "        s_down1+= ratings.loc[(ratings['userId'] == u)&(ratings['movieId']==i)]['rating'].reset_index(drop=True)[0]**2\n",
    "        s_down2+= ratings.loc[(ratings['userId'] == v)&(ratings['movieId']==i)]['rating'].reset_index(drop=True)[0]**2\n",
    "        #print (s_up/((s_down1*s_down1)**(0.5)))\n",
    "    return (s_up/((s_down1*s_down2)**(0.5)))\n",
    "def r_mid(u):\n",
    "    return ratings.loc[ratings['userId'] == u][\"rating\"].mean()\n",
    "def predict(user_id, movie_id):\n",
    "    pred=0\n",
    "    if (ratings.loc[ratings['userId'] == user_id][\"movieId\"].isin([movie_id]).any()):\n",
    "        pred=ratings.loc[(ratings['userId'] == user_id)&(ratings['movieId']==movie_id)]['rating'].reset_index(drop=True)[0]\n",
    "    else:\n",
    "        r_up=0\n",
    "        r_down=0\n",
    "        for i in (ratings.loc[ratings['movieId'] == movie_id]['userId']):\n",
    "            a= list(set( ratings.loc[ratings['userId'] == user_id]['movieId']).intersection(ratings.loc[ratings['userId'] == i]['movieId']))\n",
    "            if a:\n",
    "                s=S(user_id,i)\n",
    "                r_up += s*(ratings.loc[(ratings['userId'] == i)&(ratings['movieId']==movie_id)]['rating'].reset_index(drop=True)[0]-r_mid(i))\n",
    "                r_down+=abs(s)\n",
    "        if r_down==0:\n",
    "            pred=0.0\n",
    "        else:\n",
    "            pred=r_mid(user_id)+r_up/r_down\n",
    "    #print (r_up)\n",
    "    return pred\n"
   ]
  },
  {
   "cell_type": "markdown",
   "metadata": {},
   "source": [
    "Даём предсказание для каждого фильма"
   ]
  },
  {
   "cell_type": "code",
   "execution_count": 21,
   "metadata": {},
   "outputs": [
    {
     "data": {
      "application/vnd.jupyter.widget-view+json": {
       "model_id": "71f742b474aa4429a644037e359679f1",
       "version_major": 2,
       "version_minor": 0
      },
      "text/plain": [
       "  0%|          | 0/9724 [00:00<?, ?it/s]"
      ]
     },
     "metadata": {},
     "output_type": "display_data"
    },
    {
     "ename": "KeyboardInterrupt",
     "evalue": "",
     "output_type": "error",
     "traceback": [
      "\u001b[1;31m---------------------------------------------------------------------------\u001b[0m",
      "\u001b[1;31mKeyboardInterrupt\u001b[0m                         Traceback (most recent call last)",
      "Cell \u001b[1;32mIn[21], line 3\u001b[0m\n\u001b[0;32m      1\u001b[0m result \u001b[38;5;241m=\u001b[39m {}\n\u001b[0;32m      2\u001b[0m \u001b[38;5;28;01mfor\u001b[39;00m m \u001b[38;5;129;01min\u001b[39;00m tqdm(ratings[\u001b[38;5;124m'\u001b[39m\u001b[38;5;124mmovieId\u001b[39m\u001b[38;5;124m'\u001b[39m]\u001b[38;5;241m.\u001b[39mdrop_duplicates()\u001b[38;5;241m.\u001b[39mreset_index(drop\u001b[38;5;241m=\u001b[39m\u001b[38;5;28;01mTrue\u001b[39;00m)):\n\u001b[1;32m----> 3\u001b[0m     result[m] \u001b[38;5;241m=\u001b[39m \u001b[43mpredict\u001b[49m\u001b[43m(\u001b[49m\u001b[43mmy_user_id\u001b[49m\u001b[43m,\u001b[49m\u001b[43m \u001b[49m\u001b[43mm\u001b[49m\u001b[43m)\u001b[49m\n\u001b[0;32m      4\u001b[0m     \u001b[38;5;66;03m#print(result.items())\u001b[39;00m\n\u001b[0;32m      5\u001b[0m result \u001b[38;5;241m=\u001b[39m {k: v \u001b[38;5;28;01mfor\u001b[39;00m k, v \u001b[38;5;129;01min\u001b[39;00m result\u001b[38;5;241m.\u001b[39mitems()}\n",
      "Cell \u001b[1;32mIn[20], line 27\u001b[0m, in \u001b[0;36mpredict\u001b[1;34m(user_id, movie_id)\u001b[0m\n\u001b[0;32m     25\u001b[0m a\u001b[38;5;241m=\u001b[39m \u001b[38;5;28mlist\u001b[39m(\u001b[38;5;28mset\u001b[39m( ratings\u001b[38;5;241m.\u001b[39mloc[ratings[\u001b[38;5;124m'\u001b[39m\u001b[38;5;124muserId\u001b[39m\u001b[38;5;124m'\u001b[39m] \u001b[38;5;241m==\u001b[39m user_id][\u001b[38;5;124m'\u001b[39m\u001b[38;5;124mmovieId\u001b[39m\u001b[38;5;124m'\u001b[39m])\u001b[38;5;241m.\u001b[39mintersection(ratings\u001b[38;5;241m.\u001b[39mloc[ratings[\u001b[38;5;124m'\u001b[39m\u001b[38;5;124muserId\u001b[39m\u001b[38;5;124m'\u001b[39m] \u001b[38;5;241m==\u001b[39m i][\u001b[38;5;124m'\u001b[39m\u001b[38;5;124mmovieId\u001b[39m\u001b[38;5;124m'\u001b[39m]))\n\u001b[0;32m     26\u001b[0m \u001b[38;5;28;01mif\u001b[39;00m a:\n\u001b[1;32m---> 27\u001b[0m     s\u001b[38;5;241m=\u001b[39m\u001b[43mS\u001b[49m\u001b[43m(\u001b[49m\u001b[43muser_id\u001b[49m\u001b[43m,\u001b[49m\u001b[43mi\u001b[49m\u001b[43m)\u001b[49m\n\u001b[0;32m     28\u001b[0m     r_up \u001b[38;5;241m+\u001b[39m\u001b[38;5;241m=\u001b[39m s\u001b[38;5;241m*\u001b[39m(ratings\u001b[38;5;241m.\u001b[39mloc[(ratings[\u001b[38;5;124m'\u001b[39m\u001b[38;5;124muserId\u001b[39m\u001b[38;5;124m'\u001b[39m] \u001b[38;5;241m==\u001b[39m i)\u001b[38;5;241m&\u001b[39m(ratings[\u001b[38;5;124m'\u001b[39m\u001b[38;5;124mmovieId\u001b[39m\u001b[38;5;124m'\u001b[39m]\u001b[38;5;241m==\u001b[39mmovie_id)][\u001b[38;5;124m'\u001b[39m\u001b[38;5;124mrating\u001b[39m\u001b[38;5;124m'\u001b[39m]\u001b[38;5;241m.\u001b[39mreset_index(drop\u001b[38;5;241m=\u001b[39m\u001b[38;5;28;01mTrue\u001b[39;00m)[\u001b[38;5;241m0\u001b[39m]\u001b[38;5;241m-\u001b[39mr_mid(i))\n\u001b[0;32m     29\u001b[0m     r_down\u001b[38;5;241m+\u001b[39m\u001b[38;5;241m=\u001b[39m\u001b[38;5;28mabs\u001b[39m(s)\n",
      "Cell \u001b[1;32mIn[20], line 7\u001b[0m, in \u001b[0;36mS\u001b[1;34m(u, v)\u001b[0m\n\u001b[0;32m      5\u001b[0m s_down1\u001b[38;5;241m=\u001b[39m\u001b[38;5;241m0\u001b[39m\n\u001b[0;32m      6\u001b[0m s_down2\u001b[38;5;241m=\u001b[39m\u001b[38;5;241m0\u001b[39m\n\u001b[1;32m----> 7\u001b[0m a\u001b[38;5;241m=\u001b[39m \u001b[38;5;28mlist\u001b[39m(\u001b[38;5;28mset\u001b[39m( ratings\u001b[38;5;241m.\u001b[39mloc[\u001b[43mratings\u001b[49m\u001b[43m[\u001b[49m\u001b[38;5;124;43m'\u001b[39;49m\u001b[38;5;124;43muserId\u001b[39;49m\u001b[38;5;124;43m'\u001b[39;49m\u001b[43m]\u001b[49m\u001b[43m \u001b[49m\u001b[38;5;241;43m==\u001b[39;49m\u001b[43m \u001b[49m\u001b[43mu\u001b[49m][\u001b[38;5;124m'\u001b[39m\u001b[38;5;124mmovieId\u001b[39m\u001b[38;5;124m'\u001b[39m])\u001b[38;5;241m.\u001b[39mintersection(ratings\u001b[38;5;241m.\u001b[39mloc[ratings[\u001b[38;5;124m'\u001b[39m\u001b[38;5;124muserId\u001b[39m\u001b[38;5;124m'\u001b[39m] \u001b[38;5;241m==\u001b[39m v][\u001b[38;5;124m'\u001b[39m\u001b[38;5;124mmovieId\u001b[39m\u001b[38;5;124m'\u001b[39m]))\n\u001b[0;32m      8\u001b[0m \u001b[38;5;28;01mfor\u001b[39;00m i \u001b[38;5;129;01min\u001b[39;00m a:\n\u001b[0;32m      9\u001b[0m     s_up\u001b[38;5;241m+\u001b[39m\u001b[38;5;241m=\u001b[39m(ratings\u001b[38;5;241m.\u001b[39mloc[(ratings[\u001b[38;5;124m'\u001b[39m\u001b[38;5;124muserId\u001b[39m\u001b[38;5;124m'\u001b[39m] \u001b[38;5;241m==\u001b[39m v)\u001b[38;5;241m&\u001b[39m(ratings[\u001b[38;5;124m'\u001b[39m\u001b[38;5;124mmovieId\u001b[39m\u001b[38;5;124m'\u001b[39m]\u001b[38;5;241m==\u001b[39mi)][\u001b[38;5;124m'\u001b[39m\u001b[38;5;124mrating\u001b[39m\u001b[38;5;124m'\u001b[39m]\u001b[38;5;241m.\u001b[39mreset_index(drop\u001b[38;5;241m=\u001b[39m\u001b[38;5;28;01mTrue\u001b[39;00m)[\u001b[38;5;241m0\u001b[39m]\u001b[38;5;241m*\u001b[39m\n\u001b[0;32m     10\u001b[0m            ratings\u001b[38;5;241m.\u001b[39mloc[(ratings[\u001b[38;5;124m'\u001b[39m\u001b[38;5;124muserId\u001b[39m\u001b[38;5;124m'\u001b[39m] \u001b[38;5;241m==\u001b[39m u)\u001b[38;5;241m&\u001b[39m(ratings[\u001b[38;5;124m'\u001b[39m\u001b[38;5;124mmovieId\u001b[39m\u001b[38;5;124m'\u001b[39m]\u001b[38;5;241m==\u001b[39mi)][\u001b[38;5;124m'\u001b[39m\u001b[38;5;124mrating\u001b[39m\u001b[38;5;124m'\u001b[39m]\u001b[38;5;241m.\u001b[39mreset_index(drop\u001b[38;5;241m=\u001b[39m\u001b[38;5;28;01mTrue\u001b[39;00m)[\u001b[38;5;241m0\u001b[39m])\n",
      "File \u001b[1;32m~\\anaconda3\\lib\\site-packages\\pandas\\core\\ops\\common.py:72\u001b[0m, in \u001b[0;36m_unpack_zerodim_and_defer.<locals>.new_method\u001b[1;34m(self, other)\u001b[0m\n\u001b[0;32m     68\u001b[0m             \u001b[38;5;28;01mreturn\u001b[39;00m \u001b[38;5;28mNotImplemented\u001b[39m\n\u001b[0;32m     70\u001b[0m other \u001b[38;5;241m=\u001b[39m item_from_zerodim(other)\n\u001b[1;32m---> 72\u001b[0m \u001b[38;5;28;01mreturn\u001b[39;00m \u001b[43mmethod\u001b[49m\u001b[43m(\u001b[49m\u001b[38;5;28;43mself\u001b[39;49m\u001b[43m,\u001b[49m\u001b[43m \u001b[49m\u001b[43mother\u001b[49m\u001b[43m)\u001b[49m\n",
      "File \u001b[1;32m~\\anaconda3\\lib\\site-packages\\pandas\\core\\arraylike.py:42\u001b[0m, in \u001b[0;36mOpsMixin.__eq__\u001b[1;34m(self, other)\u001b[0m\n\u001b[0;32m     40\u001b[0m \u001b[38;5;129m@unpack_zerodim_and_defer\u001b[39m(\u001b[38;5;124m\"\u001b[39m\u001b[38;5;124m__eq__\u001b[39m\u001b[38;5;124m\"\u001b[39m)\n\u001b[0;32m     41\u001b[0m \u001b[38;5;28;01mdef\u001b[39;00m \u001b[38;5;21m__eq__\u001b[39m(\u001b[38;5;28mself\u001b[39m, other):\n\u001b[1;32m---> 42\u001b[0m     \u001b[38;5;28;01mreturn\u001b[39;00m \u001b[38;5;28;43mself\u001b[39;49m\u001b[38;5;241;43m.\u001b[39;49m\u001b[43m_cmp_method\u001b[49m\u001b[43m(\u001b[49m\u001b[43mother\u001b[49m\u001b[43m,\u001b[49m\u001b[43m \u001b[49m\u001b[43moperator\u001b[49m\u001b[38;5;241;43m.\u001b[39;49m\u001b[43meq\u001b[49m\u001b[43m)\u001b[49m\n",
      "File \u001b[1;32m~\\anaconda3\\lib\\site-packages\\pandas\\core\\series.py:6243\u001b[0m, in \u001b[0;36mSeries._cmp_method\u001b[1;34m(self, other, op)\u001b[0m\n\u001b[0;32m   6240\u001b[0m rvalues \u001b[38;5;241m=\u001b[39m extract_array(other, extract_numpy\u001b[38;5;241m=\u001b[39m\u001b[38;5;28;01mTrue\u001b[39;00m, extract_range\u001b[38;5;241m=\u001b[39m\u001b[38;5;28;01mTrue\u001b[39;00m)\n\u001b[0;32m   6242\u001b[0m \u001b[38;5;28;01mwith\u001b[39;00m np\u001b[38;5;241m.\u001b[39merrstate(\u001b[38;5;28mall\u001b[39m\u001b[38;5;241m=\u001b[39m\u001b[38;5;124m\"\u001b[39m\u001b[38;5;124mignore\u001b[39m\u001b[38;5;124m\"\u001b[39m):\n\u001b[1;32m-> 6243\u001b[0m     res_values \u001b[38;5;241m=\u001b[39m \u001b[43mops\u001b[49m\u001b[38;5;241;43m.\u001b[39;49m\u001b[43mcomparison_op\u001b[49m\u001b[43m(\u001b[49m\u001b[43mlvalues\u001b[49m\u001b[43m,\u001b[49m\u001b[43m \u001b[49m\u001b[43mrvalues\u001b[49m\u001b[43m,\u001b[49m\u001b[43m \u001b[49m\u001b[43mop\u001b[49m\u001b[43m)\u001b[49m\n\u001b[0;32m   6245\u001b[0m \u001b[38;5;28;01mreturn\u001b[39;00m \u001b[38;5;28mself\u001b[39m\u001b[38;5;241m.\u001b[39m_construct_result(res_values, name\u001b[38;5;241m=\u001b[39mres_name)\n",
      "File \u001b[1;32m~\\anaconda3\\lib\\site-packages\\pandas\\core\\ops\\array_ops.py:290\u001b[0m, in \u001b[0;36mcomparison_op\u001b[1;34m(left, right, op)\u001b[0m\n\u001b[0;32m    287\u001b[0m     res_values \u001b[38;5;241m=\u001b[39m comp_method_OBJECT_ARRAY(op, lvalues, rvalues)\n\u001b[0;32m    289\u001b[0m \u001b[38;5;28;01melse\u001b[39;00m:\n\u001b[1;32m--> 290\u001b[0m     res_values \u001b[38;5;241m=\u001b[39m \u001b[43m_na_arithmetic_op\u001b[49m\u001b[43m(\u001b[49m\u001b[43mlvalues\u001b[49m\u001b[43m,\u001b[49m\u001b[43m \u001b[49m\u001b[43mrvalues\u001b[49m\u001b[43m,\u001b[49m\u001b[43m \u001b[49m\u001b[43mop\u001b[49m\u001b[43m,\u001b[49m\u001b[43m \u001b[49m\u001b[43mis_cmp\u001b[49m\u001b[38;5;241;43m=\u001b[39;49m\u001b[38;5;28;43;01mTrue\u001b[39;49;00m\u001b[43m)\u001b[49m\n\u001b[0;32m    292\u001b[0m \u001b[38;5;28;01mreturn\u001b[39;00m res_values\n",
      "File \u001b[1;32m~\\anaconda3\\lib\\site-packages\\pandas\\core\\ops\\array_ops.py:165\u001b[0m, in \u001b[0;36m_na_arithmetic_op\u001b[1;34m(left, right, op, is_cmp)\u001b[0m\n\u001b[0;32m    162\u001b[0m     func \u001b[38;5;241m=\u001b[39m partial(expressions\u001b[38;5;241m.\u001b[39mevaluate, op)\n\u001b[0;32m    164\u001b[0m \u001b[38;5;28;01mtry\u001b[39;00m:\n\u001b[1;32m--> 165\u001b[0m     result \u001b[38;5;241m=\u001b[39m \u001b[43mfunc\u001b[49m\u001b[43m(\u001b[49m\u001b[43mleft\u001b[49m\u001b[43m,\u001b[49m\u001b[43m \u001b[49m\u001b[43mright\u001b[49m\u001b[43m)\u001b[49m\n\u001b[0;32m    166\u001b[0m \u001b[38;5;28;01mexcept\u001b[39;00m \u001b[38;5;167;01mTypeError\u001b[39;00m:\n\u001b[0;32m    167\u001b[0m     \u001b[38;5;28;01mif\u001b[39;00m \u001b[38;5;129;01mnot\u001b[39;00m is_cmp \u001b[38;5;129;01mand\u001b[39;00m (is_object_dtype(left\u001b[38;5;241m.\u001b[39mdtype) \u001b[38;5;129;01mor\u001b[39;00m is_object_dtype(right)):\n\u001b[0;32m    168\u001b[0m         \u001b[38;5;66;03m# For object dtype, fallback to a masked operation (only operating\u001b[39;00m\n\u001b[0;32m    169\u001b[0m         \u001b[38;5;66;03m#  on the non-missing values)\u001b[39;00m\n\u001b[0;32m    170\u001b[0m         \u001b[38;5;66;03m# Don't do this for comparisons, as that will handle complex numbers\u001b[39;00m\n\u001b[0;32m    171\u001b[0m         \u001b[38;5;66;03m#  incorrectly, see GH#32047\u001b[39;00m\n",
      "File \u001b[1;32m~\\anaconda3\\lib\\site-packages\\pandas\\core\\computation\\expressions.py:241\u001b[0m, in \u001b[0;36mevaluate\u001b[1;34m(op, a, b, use_numexpr)\u001b[0m\n\u001b[0;32m    238\u001b[0m \u001b[38;5;28;01mif\u001b[39;00m op_str \u001b[38;5;129;01mis\u001b[39;00m \u001b[38;5;129;01mnot\u001b[39;00m \u001b[38;5;28;01mNone\u001b[39;00m:\n\u001b[0;32m    239\u001b[0m     \u001b[38;5;28;01mif\u001b[39;00m use_numexpr:\n\u001b[0;32m    240\u001b[0m         \u001b[38;5;66;03m# error: \"None\" not callable\u001b[39;00m\n\u001b[1;32m--> 241\u001b[0m         \u001b[38;5;28;01mreturn\u001b[39;00m \u001b[43m_evaluate\u001b[49m\u001b[43m(\u001b[49m\u001b[43mop\u001b[49m\u001b[43m,\u001b[49m\u001b[43m \u001b[49m\u001b[43mop_str\u001b[49m\u001b[43m,\u001b[49m\u001b[43m \u001b[49m\u001b[43ma\u001b[49m\u001b[43m,\u001b[49m\u001b[43m \u001b[49m\u001b[43mb\u001b[49m\u001b[43m)\u001b[49m  \u001b[38;5;66;03m# type: ignore[misc]\u001b[39;00m\n\u001b[0;32m    242\u001b[0m \u001b[38;5;28;01mreturn\u001b[39;00m _evaluate_standard(op, op_str, a, b)\n",
      "File \u001b[1;32m~\\anaconda3\\lib\\site-packages\\pandas\\core\\computation\\expressions.py:129\u001b[0m, in \u001b[0;36m_evaluate_numexpr\u001b[1;34m(op, op_str, a, b)\u001b[0m\n\u001b[0;32m    126\u001b[0m     _store_test_result(result \u001b[38;5;129;01mis\u001b[39;00m \u001b[38;5;129;01mnot\u001b[39;00m \u001b[38;5;28;01mNone\u001b[39;00m)\n\u001b[0;32m    128\u001b[0m \u001b[38;5;28;01mif\u001b[39;00m result \u001b[38;5;129;01mis\u001b[39;00m \u001b[38;5;28;01mNone\u001b[39;00m:\n\u001b[1;32m--> 129\u001b[0m     result \u001b[38;5;241m=\u001b[39m \u001b[43m_evaluate_standard\u001b[49m\u001b[43m(\u001b[49m\u001b[43mop\u001b[49m\u001b[43m,\u001b[49m\u001b[43m \u001b[49m\u001b[43mop_str\u001b[49m\u001b[43m,\u001b[49m\u001b[43m \u001b[49m\u001b[43ma\u001b[49m\u001b[43m,\u001b[49m\u001b[43m \u001b[49m\u001b[43mb\u001b[49m\u001b[43m)\u001b[49m\n\u001b[0;32m    131\u001b[0m \u001b[38;5;28;01mreturn\u001b[39;00m result\n",
      "File \u001b[1;32m~\\anaconda3\\lib\\site-packages\\pandas\\core\\computation\\expressions.py:70\u001b[0m, in \u001b[0;36m_evaluate_standard\u001b[1;34m(op, op_str, a, b)\u001b[0m\n\u001b[0;32m     68\u001b[0m \u001b[38;5;28;01mif\u001b[39;00m _TEST_MODE:\n\u001b[0;32m     69\u001b[0m     _store_test_result(\u001b[38;5;28;01mFalse\u001b[39;00m)\n\u001b[1;32m---> 70\u001b[0m \u001b[38;5;28;01mreturn\u001b[39;00m \u001b[43mop\u001b[49m\u001b[43m(\u001b[49m\u001b[43ma\u001b[49m\u001b[43m,\u001b[49m\u001b[43m \u001b[49m\u001b[43mb\u001b[49m\u001b[43m)\u001b[49m\n",
      "\u001b[1;31mKeyboardInterrupt\u001b[0m: "
     ]
    }
   ],
   "source": [
    "result = {}\n",
    "for m in tqdm(ratings['movieId'].drop_duplicates().reset_index(drop=True)):\n",
    "    result[m] = predict(my_user_id, m)\n",
    "    #print(result.items())\n",
    "result = {k: v for k, v in result.items()}"
   ]
  },
  {
   "cell_type": "markdown",
   "metadata": {},
   "source": [
    "Выводим результат"
   ]
  },
  {
   "cell_type": "code",
   "execution_count": null,
   "metadata": {},
   "outputs": [],
   "source": [
    "# Преобразуем id фильмов в нормальные названия\n",
    "human_readable_result = {}\n",
    "for m, v in result.items():\n",
    "    title = id_to_title.loc[m][\"title\"]\n",
    "    human_readable_result[title] = v\n",
    "\n",
    "# Сортируем массив с результатами по убыванию\n",
    "sorted_result = {k: v for k, v in sorted(human_readable_result.items(), key=lambda item: item[1], reverse=True) if v != 0.0}\n",
    "\n",
    "# Выводим первые 20 рекомендаций\n",
    "for m, v in list(sorted_result.items())[:20]:\n",
    "    print(m, \": \", v)\n"
   ]
  },
  {
   "cell_type": "markdown",
   "metadata": {},
   "source": [
    "## Выводы\n",
    "\n",
    "Объясните полученный результат:"
   ]
  }
 ],
 "metadata": {
  "kernelspec": {
   "display_name": "Python 3 (ipykernel)",
   "language": "python",
   "name": "python3"
  },
  "language_info": {
   "codemirror_mode": {
    "name": "ipython",
    "version": 3
   },
   "file_extension": ".py",
   "mimetype": "text/x-python",
   "name": "python",
   "nbconvert_exporter": "python",
   "pygments_lexer": "ipython3",
   "version": "3.10.9"
  }
 },
 "nbformat": 4,
 "nbformat_minor": 2
}
